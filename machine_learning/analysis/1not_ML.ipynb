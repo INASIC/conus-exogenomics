{
 "cells": [
  {
   "cell_type": "code",
   "execution_count": 1,
   "metadata": {
    "collapsed": true
   },
   "outputs": [],
   "source": [
    "import pandas as pd\n",
    "import numpy as np\n",
    "from sklearn.tree import DecisionTreeClassifier\n",
    "from sklearn.naive_bayes import GaussianNB\n",
    "from sklearn.neural_network import MLPClassifier\n",
    "from sklearn.svm import SVC\n",
    "from sklearn.model_selection import train_test_split\n",
    "from sklearn.metrics import accuracy_score\n",
    "import matplotlib.pyplot as plt"
   ]
  },
  {
   "cell_type": "code",
   "execution_count": 2,
   "metadata": {
    "collapsed": true
   },
   "outputs": [],
   "source": [
    "# rmsd vectors\n",
    "near_low_rmsd_index = []\n",
    "far_low_rmsd_index = []\n",
    "near_low_rmsd = []\n",
    "far_low_rmsd = []\n",
    "near_rmsd = []\n",
    "far_rmsd = []\n",
    "\n",
    "# bond energy vectors\n",
    "near_low_rmsd_bond = []\n",
    "far_low_rmsd_bond = []\n",
    "near_bond = []\n",
    "far_bond = []\n",
    "\n",
    "# angle energy vectors\n",
    "near_low_rmsd_angle = []\n",
    "far_low_rmsd_angle = []\n",
    "near_angle = []\n",
    "far_angle = []\n",
    "\n",
    "# dihedral angle energy vectors\n",
    "near_low_rmsd_dihed = []\n",
    "far_low_rmsd_dihed = []\n",
    "near_dihed = []\n",
    "far_dihed = []\n",
    "\n",
    "# 1-4 nonbonded energy vectors\n",
    "near_low_rmsd_nb = []\n",
    "far_low_rmsd_nb = []\n",
    "near_nb = []\n",
    "far_nb = []\n",
    "\n",
    "# 1-4 electrostatic energy vectors\n",
    "near_low_rmsd_eel = []\n",
    "far_low_rmsd_eel = []\n",
    "near_eel = []\n",
    "far_eel = []\n",
    "\n",
    "# van der waals energy vectors\n",
    "near_low_rmsd_vdwaals = []\n",
    "far_low_rmsd_vdwaals = []\n",
    "near_vdwaals = [] \n",
    "far_vdwaals = [] \n",
    "\n",
    "# electrostatic energy vectors\n",
    "near_low_rmsd_eelec = []\n",
    "far_low_rmsd_eelec = []\n",
    "near_eelec = [] \n",
    "far_eelec = [] \n",
    "\n",
    "# solvation energy vectors\n",
    "near_low_rmsd_egb = []\n",
    "far_low_rmsd_egb = []\n",
    "near_egb = []\n",
    "far_egb = []\n",
    "\n",
    "# potential energy vectors\n",
    "near_low_rmsd_eptot = []\n",
    "far_low_rmsd_eptot = []\n",
    "near_eptot = []\n",
    "far_eptot = []\n",
    "\n",
    "# ROG vectors\n",
    "near_low_rmsd_rog = []\n",
    "far_low_rmsd_rog = []\n",
    "near_rog = []\n",
    "far_rog = []\n",
    "\n",
    "# end-to-end distance vectors\n",
    "near_low_rmsd_eedist = []\n",
    "far_low_rmsd_eedist = []\n",
    "near_eedist = []\n",
    "far_eedist = []"
   ]
  },
  {
   "cell_type": "code",
   "execution_count": 3,
   "metadata": {
    "collapsed": true
   },
   "outputs": [],
   "source": [
    "with open('near_data/rmsd.dat', 'r') as file:\n",
    "    file.readline()\n",
    "    for line in file.readlines():\n",
    "        if float(line[15:-1]) < 1.5:\n",
    "            near_low_rmsd_index.append(float(line[2:8]))\n",
    "            near_low_rmsd.append(float(line[15:-1]))\n",
    "        else:\n",
    "            near_rmsd.append(float(line[15:-1]))\n",
    "            \n",
    "with open('far_data/rmsd.dat', 'r') as file:\n",
    "    file.readline()\n",
    "    for line in file.readlines():\n",
    "#         if float(line[15:-1]) < 1.5:\n",
    "#             far_low_rmsd_index.append(float(line[3:8]))\n",
    "#             far_low_rmsd.append(float(line[15:-1]))\n",
    "#         else:\n",
    "        far_rmsd.append(float(line[15:-1]))"
   ]
  },
  {
   "cell_type": "code",
   "execution_count": 4,
   "metadata": {
    "collapsed": true
   },
   "outputs": [],
   "source": [
    "with open('near_data/bond.dat', 'r') as file:\n",
    "    file.readline()\n",
    "    for line in file.readlines():\n",
    "        if float(line[6:17]) in near_low_rmsd_index:\n",
    "            near_low_rmsd_bond.append(float(line[25:-1]))\n",
    "        else:\n",
    "            near_bond.append(float(line[25:-1]))\n",
    "            \n",
    "with open('far_data/bond.dat', 'r') as file:\n",
    "    file.readline()\n",
    "    for line in file.readlines():\n",
    "#         if float(line[6:17]) in far_low_rmsd_index:\n",
    "#             far_low_rmsd_bond.append(float(line[25:-1]))\n",
    "#         else:\n",
    "        far_bond.append(float(line[25:-1]))"
   ]
  },
  {
   "cell_type": "code",
   "execution_count": 5,
   "metadata": {
    "collapsed": true
   },
   "outputs": [],
   "source": [
    "with open('near_data/angle.dat', 'r') as file:\n",
    "    file.readline()\n",
    "    for line in file.readlines():\n",
    "        if float(line[6:17]) in near_low_rmsd_index:\n",
    "            near_low_rmsd_angle.append(float(line[25:-1]))\n",
    "        else:\n",
    "            near_angle.append(float(line[25:-1]))\n",
    "            \n",
    "with open('far_data/angle.dat', 'r') as file:\n",
    "    file.readline()\n",
    "    for line in file.readlines():\n",
    "#         if float(line[6:17]) in far_low_rmsd_index:\n",
    "#             far_low_rmsd_angle.append(float(line[25:-1]))\n",
    "#         else:\n",
    "        far_angle.append(float(line[25:-1]))"
   ]
  },
  {
   "cell_type": "code",
   "execution_count": 6,
   "metadata": {
    "collapsed": true
   },
   "outputs": [],
   "source": [
    "with open('near_data/dihed.dat', 'r') as file:\n",
    "    file.readline()\n",
    "    for line in file.readlines():\n",
    "        if float(line[6:17]) in near_low_rmsd_index:\n",
    "            near_low_rmsd_dihed.append(float(line[25:-1]))\n",
    "        else:\n",
    "            near_dihed.append(float(line[25:-1]))\n",
    "            \n",
    "with open('far_data/dihed.dat', 'r') as file:\n",
    "    file.readline()\n",
    "    for line in file.readlines():\n",
    "#         if float(line[6:17]) in far_low_rmsd_index:\n",
    "#             far_low_rmsd_dihed.append(float(line[25:-1]))\n",
    "#         else:\n",
    "        far_dihed.append(float(line[25:-1]))"
   ]
  },
  {
   "cell_type": "code",
   "execution_count": 7,
   "metadata": {
    "collapsed": true
   },
   "outputs": [],
   "source": [
    "with open('near_data/eel.dat', 'r') as file:\n",
    "    file.readline()\n",
    "    for line in file.readlines():\n",
    "        if float(line[6:17]) in near_low_rmsd_index:\n",
    "            near_low_rmsd_eel.append(float(line[25:-1]))\n",
    "        else:\n",
    "            near_eel.append(float(line[25:-1]))\n",
    "            \n",
    "with open('far_data/eel.dat', 'r') as file:\n",
    "    file.readline()\n",
    "    for line in file.readlines():\n",
    "#         if float(line[6:17]) in far_low_rmsd_index:\n",
    "#             far_low_rmsd_eel.append(float(line[25:-1]))\n",
    "#         else:\n",
    "        far_eel.append(float(line[25:-1]))"
   ]
  },
  {
   "cell_type": "code",
   "execution_count": 8,
   "metadata": {
    "collapsed": true
   },
   "outputs": [],
   "source": [
    "with open('near_data/nb.dat', 'r') as file:\n",
    "    file.readline()\n",
    "    for line in file.readlines():\n",
    "        if float(line[6:17]) in near_low_rmsd_index:\n",
    "            near_low_rmsd_nb.append(float(line[25:-1]))\n",
    "        else:\n",
    "            near_nb.append(float(line[25:-1]))\n",
    "            \n",
    "with open('far_data/nb.dat', 'r') as file:\n",
    "    file.readline()\n",
    "    for line in file.readlines():\n",
    "#         if float(line[6:17]) in far_low_rmsd_index:\n",
    "#             far_low_rmsd_nb.append(float(line[25:-1]))\n",
    "#         else:\n",
    "        far_nb.append(float(line[25:-1]))"
   ]
  },
  {
   "cell_type": "code",
   "execution_count": 9,
   "metadata": {
    "collapsed": true
   },
   "outputs": [],
   "source": [
    "with open('near_data/eelec.dat', 'r') as file:\n",
    "    file.readline()\n",
    "    for line in file.readlines():\n",
    "        if float(line[6:17]) in near_low_rmsd_index:\n",
    "            near_low_rmsd_eelec.append(float(line[23:-1]))\n",
    "        else:\n",
    "            near_eelec.append(float(line[23:-1]))\n",
    "            \n",
    "with open('far_data/eelec.dat', 'r') as file:\n",
    "    file.readline()\n",
    "    for line in file.readlines():\n",
    "#         if float(line[6:17]) in far_low_rmsd_index:\n",
    "#             far_low_rmsd_eelec.append(float(line[23:-1]))\n",
    "#         else:\n",
    "        far_eelec.append(float(line[23:-1]))"
   ]
  },
  {
   "cell_type": "code",
   "execution_count": 10,
   "metadata": {
    "collapsed": true
   },
   "outputs": [],
   "source": [
    "with open('near_data/vdwaals.dat', 'r') as file:\n",
    "    file.readline()\n",
    "    for line in file.readlines():\n",
    "        if float(line[6:17]) in near_low_rmsd_index:\n",
    "            near_low_rmsd_vdwaals.append(float(line[23:-1]))\n",
    "        else:\n",
    "            near_vdwaals.append(float(line[23:-1]))\n",
    "            \n",
    "with open('far_data/vdwaals.dat', 'r') as file:\n",
    "    file.readline()\n",
    "    for line in file.readlines():\n",
    "#         if float(line[6:17]) in far_low_rmsd_index:\n",
    "#             far_low_rmsd_vdwaals.append(float(line[23:-1]))\n",
    "#         else:\n",
    "        far_vdwaals.append(float(line[23:-1]))"
   ]
  },
  {
   "cell_type": "code",
   "execution_count": 11,
   "metadata": {
    "collapsed": true
   },
   "outputs": [],
   "source": [
    "with open('near_data/egb.dat', 'r') as file:\n",
    "    file.readline()\n",
    "    for line in file.readlines():\n",
    "        if float(line[6:17]) in near_low_rmsd_index:\n",
    "            near_low_rmsd_egb.append(float(line[23:-1]))\n",
    "        else:\n",
    "            near_egb.append(float(line[23:-1]))\n",
    "            \n",
    "with open('far_data/egb.dat', 'r') as file:\n",
    "    file.readline()\n",
    "    for line in file.readlines():\n",
    "#         if float(line[6:17]) in far_low_rmsd_index:\n",
    "#             far_low_rmsd_egb.append(float(line[23:-1]))\n",
    "#         else:\n",
    "        far_egb.append(float(line[23:-1]))"
   ]
  },
  {
   "cell_type": "code",
   "execution_count": 12,
   "metadata": {
    "collapsed": true
   },
   "outputs": [],
   "source": [
    "with open('near_data/rog.dat', 'r') as file:\n",
    "    file.readline()\n",
    "    for line in file.readlines():\n",
    "        if float(line[2:8]) in near_low_rmsd_index:\n",
    "            near_low_rmsd_rog.append(float(line[14:21]))\n",
    "        else:\n",
    "            near_rog.append(float(line[14:21]))\n",
    "            \n",
    "with open('far_data/rog.dat', 'r') as file:\n",
    "    file.readline()\n",
    "    for line in file.readlines():\n",
    "#         if float(line[2:8]) in far_low_rmsd_index:\n",
    "#             far_low_rmsd_rog.append(float(line[14:21]))\n",
    "#         else:\n",
    "        far_rog.append(float(line[14:21]))"
   ]
  },
  {
   "cell_type": "code",
   "execution_count": 13,
   "metadata": {
    "collapsed": true
   },
   "outputs": [],
   "source": [
    "with open('near_data/eedist.dat', 'r') as file:\n",
    "    file.readline()\n",
    "    for line in file.readlines():\n",
    "        if float(line[2:8]) in near_low_rmsd_index:\n",
    "            near_low_rmsd_eedist.append(float(line[13:21]))\n",
    "        else:\n",
    "            near_eedist.append(float(line[13:21]))\n",
    "            \n",
    "with open('far_data/eedist.dat', 'r') as file:\n",
    "    file.readline()\n",
    "    for line in file.readlines():\n",
    "#         if float(line[2:8]) in far_low_rmsd_index:\n",
    "#             far_low_rmsd_eedist.append(float(line[13:21]))\n",
    "#         else:\n",
    "        far_eedist.append(float(line[13:21]))"
   ]
  },
  {
   "cell_type": "code",
   "execution_count": 14,
   "metadata": {
    "collapsed": true
   },
   "outputs": [],
   "source": [
    "near_low_class = ['Near Native'] * len(near_low_rmsd_index)\n",
    "\n",
    "near_low_native = pd.DataFrame(list(zip(near_low_rmsd_bond, near_low_rmsd_angle, near_low_rmsd_dihed, near_low_rmsd_nb, near_low_rmsd_eel,\n",
    "                                   near_low_rmsd_vdwaals, near_low_rmsd_eelec, near_low_rmsd_egb, near_low_rmsd_rog, near_low_rmsd_eedist, near_low_rmsd, near_low_class)),\n",
    "              columns=['Bond', 'Angle', 'Dihedral', '1-4 NB', '1-4 Eel', 'vdW', 'Electro', 'Solvent', 'ROG', 'EEDist', 'RMSD', 'Class'])"
   ]
  },
  {
   "cell_type": "code",
   "execution_count": 15,
   "metadata": {
    "collapsed": true
   },
   "outputs": [],
   "source": [
    "near_class = ['Far Native'] * len(near_rmsd)\n",
    "\n",
    "near_native = pd.DataFrame(list(zip(near_bond, near_angle, near_dihed, near_nb, near_eel, near_vdwaals, near_eelec, \n",
    "                                   near_egb, near_rog, near_eedist, near_rmsd, near_class)),\n",
    "                          columns=['Bond', 'Angle', 'Dihedral', '1-4 NB', '1-4 Eel', 'vdW', 'Electro', 'Solvent', 'ROG', 'EEDist', 'RMSD', 'Class'])"
   ]
  },
  {
   "cell_type": "code",
   "execution_count": null,
   "metadata": {
    "collapsed": true
   },
   "outputs": [],
   "source": [
    "far_low_class = ['Near Native'] * len(far_low_rmsd_index)\n",
    "\n",
    "far_low_native = pd.DataFrame(list(zip(far_low_rmsd_bond, far_low_rmsd_angle, far_low_rmsd_dihed, far_low_rmsd_nb, far_low_rmsd_eel,\n",
    "                                      far_low_rmsd_vdwaals, far_low_rmsd_eelec, far_low_rmsd_egb, far_low_rmsd_rog, far_low_rmsd_eedist, far_low_rmsd, far_low_class)), \n",
    "                             columns=['Bond', 'Angle', 'Dihedral', '1-4 NB', '1-4 Eel', 'vdW', 'Electro', 'Solvent', 'ROG', 'EEDist', 'RMSD', 'Class'])"
   ]
  },
  {
   "cell_type": "code",
   "execution_count": 16,
   "metadata": {
    "collapsed": true
   },
   "outputs": [],
   "source": [
    "far_class = ['Far Native'] * len(far_rmsd)\n",
    "\n",
    "far_native = pd.DataFrame(list(zip(far_bond, far_angle, far_dihed, far_nb, far_eel, far_vdwaals, far_eelec, \n",
    "                                  far_egb, far_rog, far_eedist, far_rmsd, far_class)), \n",
    "                         columns=['Bond', 'Angle', 'Dihedral', '1-4 NB', '1-4 Eel', 'vdW', 'Electro', 'Solvent', 'ROG', 'EEDist', 'RMSD', 'Class'])"
   ]
  },
  {
   "cell_type": "code",
   "execution_count": 17,
   "metadata": {
    "collapsed": true
   },
   "outputs": [],
   "source": [
    "data = pd.concat([near_low_native, near_native, far_native])"
   ]
  },
  {
   "cell_type": "code",
   "execution_count": 21,
   "metadata": {
    "collapsed": true
   },
   "outputs": [],
   "source": [
    "data.to_csv('1not_GBSA.csv', sep=',', encoding='utf-8', index=False)"
   ]
  },
  {
   "cell_type": "code",
   "execution_count": 7,
   "metadata": {},
   "outputs": [
    {
     "name": "stdout",
     "output_type": "stream",
     "text": [
      "[0.0, 0.5837, 0.7193, 0.8272, 0.5776, 0.5111, 0.6611, 0.7923, 0.8258, 0.5417, 0.5144, 0.5216, 0.9875, 1.2045, 0.8178, 0.6132, 0.6644, 0.7457, 0.7868, 1.1209]\n"
     ]
    }
   ],
   "source": [
    "all_rmsd = near_low_rmsd + far_low_rmsd + near_rmsd + far_rmsd\n",
    "print(all_rmsd[:20])"
   ]
  },
  {
   "cell_type": "code",
   "execution_count": 54,
   "metadata": {},
   "outputs": [
    {
     "data": {
      "text/plain": [
       "187401"
      ]
     },
     "execution_count": 54,
     "metadata": {},
     "output_type": "execute_result"
    }
   ],
   "source": [
    "len(near_low_rmsd)"
   ]
  },
  {
   "cell_type": "code",
   "execution_count": 29,
   "metadata": {},
   "outputs": [
    {
     "data": {
      "image/png": "[encoded data removed]",
      "text/plain": [
       "<matplotlib.figure.Figure at 0x7f7a59a7b4e0>"
      ]
     },
     "metadata": {},
     "output_type": "display_data"
    },
    {
     "data": {
      "image/png": "[encoded data removed]",
      "text/plain": [
       "<matplotlib.figure.Figure at 0x7f7a596ebc50>"
      ]
     },
     "metadata": {},
     "output_type": "display_data"
    },
    {
     "data": {
      "image/png": "[encoded data removed]",
      "text/plain": [
       "<matplotlib.figure.Figure at 0x7f7a5995cfd0>"
      ]
     },
     "metadata": {},
     "output_type": "display_data"
    },
    {
     "data": {
      "image/png": "[encoded data removed]",
      "text/plain": [
       "<matplotlib.figure.Figure at 0x7f7a598e8ef0>"
      ]
     },
     "metadata": {},
     "output_type": "display_data"
    }
   ],
   "source": [
    "plt.scatter(near_low_rmsd + near_rmsd, near_low_rmsd_rog + near_rog)\n",
    "plt.scatter(far_rmsd, far_rog)\n",
    "plt.xlabel('RMSD')\n",
    "plt.ylabel('ROG')\n",
    "#plt.legend(('Native Run', 'Native Run', 'Linear Run', 'Linear Run'))\n",
    "plt.title('ROG vs RMSD')\n",
    "plt.show()\n",
    "\n",
    "plt.scatter(near_low_rmsd + near_rmsd, near_low_rmsd_eedist + near_eedist)\n",
    "plt.scatter(far_rmsd, far_eedist)\n",
    "plt.xlabel('RMSD')\n",
    "plt.ylabel('ROG')\n",
    "#plt.legend(('Native Run', 'Native Run', 'Linear Run', 'Linear Run'))\n",
    "plt.title('Eedist vs RMSD')\n",
    "plt.show()\n",
    "\n",
    "plt.scatter(near_low_rmsd_rog + near_rog, near_low_rmsd_eedist + near_eedist)\n",
    "plt.scatter(far_rog, far_eedist)\n",
    "plt.xlabel('ROG')\n",
    "plt.ylabel('EEDist')\n",
    "#plt.legend(('Native Run', 'Native Run', 'Linear Run', 'Linear Run'))\n",
    "plt.title('Eedist vs ROG')\n",
    "plt.show()\n",
    "\n",
    "plt.scatter(near_low_rmsd + near_rmsd, near_low_rmsd_egb + near_egb)\n",
    "plt.scatter(far_rmsd, far_egb)\n",
    "plt.xlabel('RMSD')\n",
    "plt.ylabel('Egb')\n",
    "#plt.legend(('Native Run', 'Native Run', 'Linear Run', 'Linear Run'))\n",
    "plt.title('Egb vs RMSD')\n",
    "plt.show()"
   ]
  },
  {
   "cell_type": "code",
   "execution_count": 18,
   "metadata": {},
   "outputs": [
    {
     "data": {
      "text/html": [
       "<div>\n",
       "<style>\n",
       "    .dataframe thead tr:only-child th {\n",
       "        text-align: right;\n",
       "    }\n",
       "\n",
       "    .dataframe thead th {\n",
       "        text-align: left;\n",
       "    }\n",
       "\n",
       "    .dataframe tbody tr th {\n",
       "        vertical-align: top;\n",
       "    }\n",
       "</style>\n",
       "<table border=\"1\" class=\"dataframe\">\n",
       "  <thead>\n",
       "    <tr style=\"text-align: right;\">\n",
       "      <th></th>\n",
       "      <th>Bond</th>\n",
       "      <th>Angle</th>\n",
       "      <th>Dihedral</th>\n",
       "      <th>1-4 NB</th>\n",
       "      <th>1-4 Eel</th>\n",
       "      <th>vdW</th>\n",
       "      <th>Electro</th>\n",
       "      <th>Solvent</th>\n",
       "      <th>ROG</th>\n",
       "      <th>EEDist</th>\n",
       "      <th>RMSD</th>\n",
       "      <th>Class</th>\n",
       "    </tr>\n",
       "  </thead>\n",
       "  <tbody>\n",
       "    <tr>\n",
       "      <th>0</th>\n",
       "      <td>34.2743</td>\n",
       "      <td>105.3363</td>\n",
       "      <td>161.8828</td>\n",
       "      <td>37.6787</td>\n",
       "      <td>426.1438</td>\n",
       "      <td>-63.3958</td>\n",
       "      <td>-803.9707</td>\n",
       "      <td>-218.4628</td>\n",
       "      <td>6.8667</td>\n",
       "      <td>7.7274</td>\n",
       "      <td>0.6409</td>\n",
       "      <td>Near Native</td>\n",
       "    </tr>\n",
       "    <tr>\n",
       "      <th>1</th>\n",
       "      <td>46.0620</td>\n",
       "      <td>93.3806</td>\n",
       "      <td>166.1663</td>\n",
       "      <td>34.2727</td>\n",
       "      <td>399.1738</td>\n",
       "      <td>-64.8408</td>\n",
       "      <td>-795.3850</td>\n",
       "      <td>-216.9954</td>\n",
       "      <td>6.8174</td>\n",
       "      <td>6.1745</td>\n",
       "      <td>0.4413</td>\n",
       "      <td>Near Native</td>\n",
       "    </tr>\n",
       "    <tr>\n",
       "      <th>2</th>\n",
       "      <td>40.0482</td>\n",
       "      <td>100.6165</td>\n",
       "      <td>163.1814</td>\n",
       "      <td>33.3164</td>\n",
       "      <td>393.3634</td>\n",
       "      <td>-59.7704</td>\n",
       "      <td>-788.0433</td>\n",
       "      <td>-217.0827</td>\n",
       "      <td>6.9488</td>\n",
       "      <td>6.5600</td>\n",
       "      <td>0.3885</td>\n",
       "      <td>Near Native</td>\n",
       "    </tr>\n",
       "    <tr>\n",
       "      <th>3</th>\n",
       "      <td>42.8014</td>\n",
       "      <td>106.3473</td>\n",
       "      <td>156.4609</td>\n",
       "      <td>39.9510</td>\n",
       "      <td>411.9615</td>\n",
       "      <td>-69.4927</td>\n",
       "      <td>-807.3342</td>\n",
       "      <td>-210.2864</td>\n",
       "      <td>6.8521</td>\n",
       "      <td>6.1131</td>\n",
       "      <td>0.4542</td>\n",
       "      <td>Near Native</td>\n",
       "    </tr>\n",
       "    <tr>\n",
       "      <th>4</th>\n",
       "      <td>44.8994</td>\n",
       "      <td>113.2385</td>\n",
       "      <td>156.1969</td>\n",
       "      <td>36.8634</td>\n",
       "      <td>423.5088</td>\n",
       "      <td>-67.5386</td>\n",
       "      <td>-811.7598</td>\n",
       "      <td>-217.0568</td>\n",
       "      <td>6.8093</td>\n",
       "      <td>5.4678</td>\n",
       "      <td>0.5024</td>\n",
       "      <td>Near Native</td>\n",
       "    </tr>\n",
       "  </tbody>\n",
       "</table>\n",
       "</div>"
      ],
      "text/plain": [
       "      Bond     Angle  Dihedral   1-4 NB   1-4 Eel      vdW   Electro  \\\n",
       "0  34.2743  105.3363  161.8828  37.6787  426.1438 -63.3958 -803.9707   \n",
       "1  46.0620   93.3806  166.1663  34.2727  399.1738 -64.8408 -795.3850   \n",
       "2  40.0482  100.6165  163.1814  33.3164  393.3634 -59.7704 -788.0433   \n",
       "3  42.8014  106.3473  156.4609  39.9510  411.9615 -69.4927 -807.3342   \n",
       "4  44.8994  113.2385  156.1969  36.8634  423.5088 -67.5386 -811.7598   \n",
       "\n",
       "    Solvent     ROG  EEDist    RMSD        Class  \n",
       "0 -218.4628  6.8667  7.7274  0.6409  Near Native  \n",
       "1 -216.9954  6.8174  6.1745  0.4413  Near Native  \n",
       "2 -217.0827  6.9488  6.5600  0.3885  Near Native  \n",
       "3 -210.2864  6.8521  6.1131  0.4542  Near Native  \n",
       "4 -217.0568  6.8093  5.4678  0.5024  Near Native  "
      ]
     },
     "execution_count": 18,
     "metadata": {},
     "output_type": "execute_result"
    }
   ],
   "source": [
    "data.head()"
   ]
  },
  {
   "cell_type": "code",
   "execution_count": 19,
   "metadata": {},
   "outputs": [
    {
     "data": {
      "text/html": [
       "<div>\n",
       "<style>\n",
       "    .dataframe thead tr:only-child th {\n",
       "        text-align: right;\n",
       "    }\n",
       "\n",
       "    .dataframe thead th {\n",
       "        text-align: left;\n",
       "    }\n",
       "\n",
       "    .dataframe tbody tr th {\n",
       "        vertical-align: top;\n",
       "    }\n",
       "</style>\n",
       "<table border=\"1\" class=\"dataframe\">\n",
       "  <thead>\n",
       "    <tr style=\"text-align: right;\">\n",
       "      <th></th>\n",
       "      <th>Bond</th>\n",
       "      <th>Angle</th>\n",
       "      <th>Dihedral</th>\n",
       "      <th>1-4 NB</th>\n",
       "      <th>1-4 Eel</th>\n",
       "      <th>vdW</th>\n",
       "      <th>Electro</th>\n",
       "      <th>Solvent</th>\n",
       "      <th>ROG</th>\n",
       "      <th>EEDist</th>\n",
       "      <th>RMSD</th>\n",
       "      <th>Class</th>\n",
       "    </tr>\n",
       "  </thead>\n",
       "  <tbody>\n",
       "    <tr>\n",
       "      <th>199995</th>\n",
       "      <td>39.0881</td>\n",
       "      <td>117.9216</td>\n",
       "      <td>157.5778</td>\n",
       "      <td>32.1896</td>\n",
       "      <td>390.1267</td>\n",
       "      <td>-59.0233</td>\n",
       "      <td>-819.8968</td>\n",
       "      <td>-182.0176</td>\n",
       "      <td>6.7333</td>\n",
       "      <td>14.6645</td>\n",
       "      <td>3.3069</td>\n",
       "      <td>Far Native</td>\n",
       "    </tr>\n",
       "    <tr>\n",
       "      <th>199996</th>\n",
       "      <td>36.3958</td>\n",
       "      <td>107.1860</td>\n",
       "      <td>162.1034</td>\n",
       "      <td>35.9574</td>\n",
       "      <td>402.2383</td>\n",
       "      <td>-66.2167</td>\n",
       "      <td>-829.0700</td>\n",
       "      <td>-176.5136</td>\n",
       "      <td>6.5372</td>\n",
       "      <td>13.6363</td>\n",
       "      <td>3.2452</td>\n",
       "      <td>Far Native</td>\n",
       "    </tr>\n",
       "    <tr>\n",
       "      <th>199997</th>\n",
       "      <td>37.3107</td>\n",
       "      <td>96.9314</td>\n",
       "      <td>160.7343</td>\n",
       "      <td>40.8787</td>\n",
       "      <td>410.3254</td>\n",
       "      <td>-66.5489</td>\n",
       "      <td>-831.8564</td>\n",
       "      <td>-178.1966</td>\n",
       "      <td>6.4810</td>\n",
       "      <td>13.6003</td>\n",
       "      <td>3.1981</td>\n",
       "      <td>Far Native</td>\n",
       "    </tr>\n",
       "    <tr>\n",
       "      <th>199998</th>\n",
       "      <td>40.5256</td>\n",
       "      <td>110.2237</td>\n",
       "      <td>161.3043</td>\n",
       "      <td>37.8917</td>\n",
       "      <td>401.0118</td>\n",
       "      <td>-61.5295</td>\n",
       "      <td>-835.4486</td>\n",
       "      <td>-177.7952</td>\n",
       "      <td>6.6129</td>\n",
       "      <td>14.0765</td>\n",
       "      <td>3.2114</td>\n",
       "      <td>Far Native</td>\n",
       "    </tr>\n",
       "    <tr>\n",
       "      <th>199999</th>\n",
       "      <td>38.3878</td>\n",
       "      <td>104.2387</td>\n",
       "      <td>155.3094</td>\n",
       "      <td>34.8430</td>\n",
       "      <td>402.8581</td>\n",
       "      <td>-61.0728</td>\n",
       "      <td>-823.4472</td>\n",
       "      <td>-181.0325</td>\n",
       "      <td>6.6522</td>\n",
       "      <td>13.8852</td>\n",
       "      <td>3.3072</td>\n",
       "      <td>Far Native</td>\n",
       "    </tr>\n",
       "  </tbody>\n",
       "</table>\n",
       "</div>"
      ],
      "text/plain": [
       "           Bond     Angle  Dihedral   1-4 NB   1-4 Eel      vdW   Electro  \\\n",
       "199995  39.0881  117.9216  157.5778  32.1896  390.1267 -59.0233 -819.8968   \n",
       "199996  36.3958  107.1860  162.1034  35.9574  402.2383 -66.2167 -829.0700   \n",
       "199997  37.3107   96.9314  160.7343  40.8787  410.3254 -66.5489 -831.8564   \n",
       "199998  40.5256  110.2237  161.3043  37.8917  401.0118 -61.5295 -835.4486   \n",
       "199999  38.3878  104.2387  155.3094  34.8430  402.8581 -61.0728 -823.4472   \n",
       "\n",
       "         Solvent     ROG   EEDist    RMSD       Class  \n",
       "199995 -182.0176  6.7333  14.6645  3.3069  Far Native  \n",
       "199996 -176.5136  6.5372  13.6363  3.2452  Far Native  \n",
       "199997 -178.1966  6.4810  13.6003  3.1981  Far Native  \n",
       "199998 -177.7952  6.6129  14.0765  3.2114  Far Native  \n",
       "199999 -181.0325  6.6522  13.8852  3.3072  Far Native  "
      ]
     },
     "execution_count": 19,
     "metadata": {},
     "output_type": "execute_result"
    }
   ],
   "source": [
    "data.tail()"
   ]
  },
  {
   "cell_type": "code",
   "execution_count": 24,
   "metadata": {},
   "outputs": [
    {
     "data": {
      "text/plain": [
       "(400000, 12)"
      ]
     },
     "execution_count": 24,
     "metadata": {},
     "output_type": "execute_result"
    }
   ],
   "source": [
    "data.shape"
   ]
  },
  {
   "cell_type": "code",
   "execution_count": 25,
   "metadata": {},
   "outputs": [
    {
     "data": {
      "text/html": [
       "<div>\n",
       "<style>\n",
       "    .dataframe thead tr:only-child th {\n",
       "        text-align: right;\n",
       "    }\n",
       "\n",
       "    .dataframe thead th {\n",
       "        text-align: left;\n",
       "    }\n",
       "\n",
       "    .dataframe tbody tr th {\n",
       "        vertical-align: top;\n",
       "    }\n",
       "</style>\n",
       "<table border=\"1\" class=\"dataframe\">\n",
       "  <thead>\n",
       "    <tr style=\"text-align: right;\">\n",
       "      <th></th>\n",
       "      <th>Bond</th>\n",
       "      <th>Angle</th>\n",
       "      <th>Dihedral</th>\n",
       "      <th>1-4 NB</th>\n",
       "      <th>1-4 Eel</th>\n",
       "      <th>vdW</th>\n",
       "      <th>Electro</th>\n",
       "      <th>Solvent</th>\n",
       "      <th>ROG</th>\n",
       "      <th>EEDist</th>\n",
       "      <th>RMSD</th>\n",
       "    </tr>\n",
       "  </thead>\n",
       "  <tbody>\n",
       "    <tr>\n",
       "      <th>count</th>\n",
       "      <td>400000.000000</td>\n",
       "      <td>400000.000000</td>\n",
       "      <td>400000.000000</td>\n",
       "      <td>400000.000000</td>\n",
       "      <td>400000.000000</td>\n",
       "      <td>400000.000000</td>\n",
       "      <td>400000.000000</td>\n",
       "      <td>400000.000000</td>\n",
       "      <td>400000.000000</td>\n",
       "      <td>400000.000000</td>\n",
       "      <td>400000.000000</td>\n",
       "    </tr>\n",
       "    <tr>\n",
       "      <th>mean</th>\n",
       "      <td>39.545966</td>\n",
       "      <td>107.652982</td>\n",
       "      <td>158.177207</td>\n",
       "      <td>34.190034</td>\n",
       "      <td>408.648309</td>\n",
       "      <td>-58.827369</td>\n",
       "      <td>-829.162575</td>\n",
       "      <td>-190.252407</td>\n",
       "      <td>6.569502</td>\n",
       "      <td>11.217981</td>\n",
       "      <td>2.362520</td>\n",
       "    </tr>\n",
       "    <tr>\n",
       "      <th>std</th>\n",
       "      <td>5.167776</td>\n",
       "      <td>6.972099</td>\n",
       "      <td>5.707777</td>\n",
       "      <td>2.652976</td>\n",
       "      <td>10.983488</td>\n",
       "      <td>5.693797</td>\n",
       "      <td>22.996204</td>\n",
       "      <td>21.246833</td>\n",
       "      <td>0.228197</td>\n",
       "      <td>2.345407</td>\n",
       "      <td>1.173167</td>\n",
       "    </tr>\n",
       "    <tr>\n",
       "      <th>min</th>\n",
       "      <td>19.799600</td>\n",
       "      <td>80.046400</td>\n",
       "      <td>136.604900</td>\n",
       "      <td>23.649200</td>\n",
       "      <td>366.162000</td>\n",
       "      <td>-76.790600</td>\n",
       "      <td>-931.931200</td>\n",
       "      <td>-283.236500</td>\n",
       "      <td>5.862000</td>\n",
       "      <td>3.576400</td>\n",
       "      <td>0.263200</td>\n",
       "    </tr>\n",
       "    <tr>\n",
       "      <th>25%</th>\n",
       "      <td>35.960600</td>\n",
       "      <td>102.866600</td>\n",
       "      <td>154.282600</td>\n",
       "      <td>32.368800</td>\n",
       "      <td>400.775050</td>\n",
       "      <td>-63.208100</td>\n",
       "      <td>-845.320150</td>\n",
       "      <td>-207.820725</td>\n",
       "      <td>6.418300</td>\n",
       "      <td>9.586500</td>\n",
       "      <td>1.344600</td>\n",
       "    </tr>\n",
       "    <tr>\n",
       "      <th>50%</th>\n",
       "      <td>39.356000</td>\n",
       "      <td>107.505800</td>\n",
       "      <td>157.686900</td>\n",
       "      <td>34.131500</td>\n",
       "      <td>408.450000</td>\n",
       "      <td>-59.523500</td>\n",
       "      <td>-830.536050</td>\n",
       "      <td>-191.364400</td>\n",
       "      <td>6.545900</td>\n",
       "      <td>11.072000</td>\n",
       "      <td>2.499100</td>\n",
       "    </tr>\n",
       "    <tr>\n",
       "      <th>75%</th>\n",
       "      <td>42.925300</td>\n",
       "      <td>112.282550</td>\n",
       "      <td>161.440725</td>\n",
       "      <td>35.942800</td>\n",
       "      <td>416.491125</td>\n",
       "      <td>-54.687400</td>\n",
       "      <td>-813.816675</td>\n",
       "      <td>-171.957275</td>\n",
       "      <td>6.733400</td>\n",
       "      <td>13.310400</td>\n",
       "      <td>3.292900</td>\n",
       "    </tr>\n",
       "    <tr>\n",
       "      <th>max</th>\n",
       "      <td>66.617000</td>\n",
       "      <td>142.446500</td>\n",
       "      <td>194.103500</td>\n",
       "      <td>48.245300</td>\n",
       "      <td>453.993400</td>\n",
       "      <td>-34.866800</td>\n",
       "      <td>-718.260500</td>\n",
       "      <td>-118.821500</td>\n",
       "      <td>7.552000</td>\n",
       "      <td>17.005400</td>\n",
       "      <td>5.473600</td>\n",
       "    </tr>\n",
       "  </tbody>\n",
       "</table>\n",
       "</div>"
      ],
      "text/plain": [
       "                Bond          Angle       Dihedral         1-4 NB  \\\n",
       "count  400000.000000  400000.000000  400000.000000  400000.000000   \n",
       "mean       39.545966     107.652982     158.177207      34.190034   \n",
       "std         5.167776       6.972099       5.707777       2.652976   \n",
       "min        19.799600      80.046400     136.604900      23.649200   \n",
       "25%        35.960600     102.866600     154.282600      32.368800   \n",
       "50%        39.356000     107.505800     157.686900      34.131500   \n",
       "75%        42.925300     112.282550     161.440725      35.942800   \n",
       "max        66.617000     142.446500     194.103500      48.245300   \n",
       "\n",
       "             1-4 Eel            vdW        Electro        Solvent  \\\n",
       "count  400000.000000  400000.000000  400000.000000  400000.000000   \n",
       "mean      408.648309     -58.827369    -829.162575    -190.252407   \n",
       "std        10.983488       5.693797      22.996204      21.246833   \n",
       "min       366.162000     -76.790600    -931.931200    -283.236500   \n",
       "25%       400.775050     -63.208100    -845.320150    -207.820725   \n",
       "50%       408.450000     -59.523500    -830.536050    -191.364400   \n",
       "75%       416.491125     -54.687400    -813.816675    -171.957275   \n",
       "max       453.993400     -34.866800    -718.260500    -118.821500   \n",
       "\n",
       "                 ROG         EEDist           RMSD  \n",
       "count  400000.000000  400000.000000  400000.000000  \n",
       "mean        6.569502      11.217981       2.362520  \n",
       "std         0.228197       2.345407       1.173167  \n",
       "min         5.862000       3.576400       0.263200  \n",
       "25%         6.418300       9.586500       1.344600  \n",
       "50%         6.545900      11.072000       2.499100  \n",
       "75%         6.733400      13.310400       3.292900  \n",
       "max         7.552000      17.005400       5.473600  "
      ]
     },
     "execution_count": 25,
     "metadata": {},
     "output_type": "execute_result"
    }
   ],
   "source": [
    "data.describe()"
   ]
  },
  {
   "cell_type": "code",
   "execution_count": 26,
   "metadata": {},
   "outputs": [
    {
     "data": {
      "text/plain": [
       "Class\n",
       "Far Native     212599\n",
       "Near Native    187401\n",
       "dtype: int64"
      ]
     },
     "execution_count": 26,
     "metadata": {},
     "output_type": "execute_result"
    }
   ],
   "source": [
    "data.groupby('Class').size()"
   ]
  },
  {
   "cell_type": "code",
   "execution_count": 27,
   "metadata": {},
   "outputs": [
    {
     "data": {
      "text/html": [
       "<div>\n",
       "<style>\n",
       "    .dataframe thead tr:only-child th {\n",
       "        text-align: right;\n",
       "    }\n",
       "\n",
       "    .dataframe thead th {\n",
       "        text-align: left;\n",
       "    }\n",
       "\n",
       "    .dataframe tbody tr th {\n",
       "        vertical-align: top;\n",
       "    }\n",
       "</style>\n",
       "<table border=\"1\" class=\"dataframe\">\n",
       "  <thead>\n",
       "    <tr style=\"text-align: right;\">\n",
       "      <th></th>\n",
       "      <th>Bond</th>\n",
       "      <th>Angle</th>\n",
       "      <th>Dihedral</th>\n",
       "      <th>1-4 NB</th>\n",
       "      <th>1-4 Eel</th>\n",
       "      <th>vdW</th>\n",
       "      <th>Electro</th>\n",
       "      <th>Solvent</th>\n",
       "      <th>ROG</th>\n",
       "      <th>EEDist</th>\n",
       "      <th>RMSD</th>\n",
       "    </tr>\n",
       "  </thead>\n",
       "  <tbody>\n",
       "    <tr>\n",
       "      <th>Bond</th>\n",
       "      <td>1.000000</td>\n",
       "      <td>-0.143136</td>\n",
       "      <td>-0.079197</td>\n",
       "      <td>-0.258128</td>\n",
       "      <td>-0.206371</td>\n",
       "      <td>0.033881</td>\n",
       "      <td>0.024205</td>\n",
       "      <td>0.028522</td>\n",
       "      <td>0.030236</td>\n",
       "      <td>0.045476</td>\n",
       "      <td>0.046685</td>\n",
       "    </tr>\n",
       "    <tr>\n",
       "      <th>Angle</th>\n",
       "      <td>-0.143136</td>\n",
       "      <td>1.000000</td>\n",
       "      <td>-0.119115</td>\n",
       "      <td>-0.235642</td>\n",
       "      <td>-0.301073</td>\n",
       "      <td>0.062422</td>\n",
       "      <td>-0.027409</td>\n",
       "      <td>0.123288</td>\n",
       "      <td>0.104115</td>\n",
       "      <td>0.189594</td>\n",
       "      <td>0.203773</td>\n",
       "    </tr>\n",
       "    <tr>\n",
       "      <th>Dihedral</th>\n",
       "      <td>-0.079197</td>\n",
       "      <td>-0.119115</td>\n",
       "      <td>1.000000</td>\n",
       "      <td>-0.081387</td>\n",
       "      <td>0.119984</td>\n",
       "      <td>-0.208213</td>\n",
       "      <td>0.100939</td>\n",
       "      <td>-0.174964</td>\n",
       "      <td>0.027716</td>\n",
       "      <td>0.019480</td>\n",
       "      <td>0.043059</td>\n",
       "    </tr>\n",
       "    <tr>\n",
       "      <th>1-4 NB</th>\n",
       "      <td>-0.258128</td>\n",
       "      <td>-0.235642</td>\n",
       "      <td>-0.081387</td>\n",
       "      <td>1.000000</td>\n",
       "      <td>0.315138</td>\n",
       "      <td>-0.096066</td>\n",
       "      <td>-0.067730</td>\n",
       "      <td>-0.068312</td>\n",
       "      <td>-0.131260</td>\n",
       "      <td>-0.191234</td>\n",
       "      <td>-0.208144</td>\n",
       "    </tr>\n",
       "    <tr>\n",
       "      <th>1-4 Eel</th>\n",
       "      <td>-0.206371</td>\n",
       "      <td>-0.301073</td>\n",
       "      <td>0.119984</td>\n",
       "      <td>0.315138</td>\n",
       "      <td>1.000000</td>\n",
       "      <td>-0.390082</td>\n",
       "      <td>-0.159259</td>\n",
       "      <td>-0.289234</td>\n",
       "      <td>-0.269853</td>\n",
       "      <td>-0.464941</td>\n",
       "      <td>-0.504268</td>\n",
       "    </tr>\n",
       "    <tr>\n",
       "      <th>vdW</th>\n",
       "      <td>0.033881</td>\n",
       "      <td>0.062422</td>\n",
       "      <td>-0.208213</td>\n",
       "      <td>-0.096066</td>\n",
       "      <td>-0.390082</td>\n",
       "      <td>1.000000</td>\n",
       "      <td>-0.317069</td>\n",
       "      <td>0.476896</td>\n",
       "      <td>0.355336</td>\n",
       "      <td>0.541753</td>\n",
       "      <td>0.565212</td>\n",
       "    </tr>\n",
       "    <tr>\n",
       "      <th>Electro</th>\n",
       "      <td>0.024205</td>\n",
       "      <td>-0.027409</td>\n",
       "      <td>0.100939</td>\n",
       "      <td>-0.067730</td>\n",
       "      <td>-0.159259</td>\n",
       "      <td>-0.317069</td>\n",
       "      <td>1.000000</td>\n",
       "      <td>-0.872648</td>\n",
       "      <td>-0.120238</td>\n",
       "      <td>-0.194053</td>\n",
       "      <td>-0.200584</td>\n",
       "    </tr>\n",
       "    <tr>\n",
       "      <th>Solvent</th>\n",
       "      <td>0.028522</td>\n",
       "      <td>0.123288</td>\n",
       "      <td>-0.174964</td>\n",
       "      <td>-0.068312</td>\n",
       "      <td>-0.289234</td>\n",
       "      <td>0.476896</td>\n",
       "      <td>-0.872648</td>\n",
       "      <td>1.000000</td>\n",
       "      <td>0.271308</td>\n",
       "      <td>0.450133</td>\n",
       "      <td>0.481636</td>\n",
       "    </tr>\n",
       "    <tr>\n",
       "      <th>ROG</th>\n",
       "      <td>0.030236</td>\n",
       "      <td>0.104115</td>\n",
       "      <td>0.027716</td>\n",
       "      <td>-0.131260</td>\n",
       "      <td>-0.269853</td>\n",
       "      <td>0.355336</td>\n",
       "      <td>-0.120238</td>\n",
       "      <td>0.271308</td>\n",
       "      <td>1.000000</td>\n",
       "      <td>0.376560</td>\n",
       "      <td>0.396767</td>\n",
       "    </tr>\n",
       "    <tr>\n",
       "      <th>EEDist</th>\n",
       "      <td>0.045476</td>\n",
       "      <td>0.189594</td>\n",
       "      <td>0.019480</td>\n",
       "      <td>-0.191234</td>\n",
       "      <td>-0.464941</td>\n",
       "      <td>0.541753</td>\n",
       "      <td>-0.194053</td>\n",
       "      <td>0.450133</td>\n",
       "      <td>0.376560</td>\n",
       "      <td>1.000000</td>\n",
       "      <td>0.855756</td>\n",
       "    </tr>\n",
       "    <tr>\n",
       "      <th>RMSD</th>\n",
       "      <td>0.046685</td>\n",
       "      <td>0.203773</td>\n",
       "      <td>0.043059</td>\n",
       "      <td>-0.208144</td>\n",
       "      <td>-0.504268</td>\n",
       "      <td>0.565212</td>\n",
       "      <td>-0.200584</td>\n",
       "      <td>0.481636</td>\n",
       "      <td>0.396767</td>\n",
       "      <td>0.855756</td>\n",
       "      <td>1.000000</td>\n",
       "    </tr>\n",
       "  </tbody>\n",
       "</table>\n",
       "</div>"
      ],
      "text/plain": [
       "              Bond     Angle  Dihedral    1-4 NB   1-4 Eel       vdW  \\\n",
       "Bond      1.000000 -0.143136 -0.079197 -0.258128 -0.206371  0.033881   \n",
       "Angle    -0.143136  1.000000 -0.119115 -0.235642 -0.301073  0.062422   \n",
       "Dihedral -0.079197 -0.119115  1.000000 -0.081387  0.119984 -0.208213   \n",
       "1-4 NB   -0.258128 -0.235642 -0.081387  1.000000  0.315138 -0.096066   \n",
       "1-4 Eel  -0.206371 -0.301073  0.119984  0.315138  1.000000 -0.390082   \n",
       "vdW       0.033881  0.062422 -0.208213 -0.096066 -0.390082  1.000000   \n",
       "Electro   0.024205 -0.027409  0.100939 -0.067730 -0.159259 -0.317069   \n",
       "Solvent   0.028522  0.123288 -0.174964 -0.068312 -0.289234  0.476896   \n",
       "ROG       0.030236  0.104115  0.027716 -0.131260 -0.269853  0.355336   \n",
       "EEDist    0.045476  0.189594  0.019480 -0.191234 -0.464941  0.541753   \n",
       "RMSD      0.046685  0.203773  0.043059 -0.208144 -0.504268  0.565212   \n",
       "\n",
       "           Electro   Solvent       ROG    EEDist      RMSD  \n",
       "Bond      0.024205  0.028522  0.030236  0.045476  0.046685  \n",
       "Angle    -0.027409  0.123288  0.104115  0.189594  0.203773  \n",
       "Dihedral  0.100939 -0.174964  0.027716  0.019480  0.043059  \n",
       "1-4 NB   -0.067730 -0.068312 -0.131260 -0.191234 -0.208144  \n",
       "1-4 Eel  -0.159259 -0.289234 -0.269853 -0.464941 -0.504268  \n",
       "vdW      -0.317069  0.476896  0.355336  0.541753  0.565212  \n",
       "Electro   1.000000 -0.872648 -0.120238 -0.194053 -0.200584  \n",
       "Solvent  -0.872648  1.000000  0.271308  0.450133  0.481636  \n",
       "ROG      -0.120238  0.271308  1.000000  0.376560  0.396767  \n",
       "EEDist   -0.194053  0.450133  0.376560  1.000000  0.855756  \n",
       "RMSD     -0.200584  0.481636  0.396767  0.855756  1.000000  "
      ]
     },
     "execution_count": 27,
     "metadata": {},
     "output_type": "execute_result"
    }
   ],
   "source": [
    "data.corr(method='pearson')"
   ]
  },
  {
   "cell_type": "code",
   "execution_count": 19,
   "metadata": {
    "collapsed": true
   },
   "outputs": [],
   "source": [
    "x = data.iloc[:, :10]\n",
    "y = data.iloc[:, 11]"
   ]
  },
  {
   "cell_type": "code",
   "execution_count": 20,
   "metadata": {
    "collapsed": true
   },
   "outputs": [],
   "source": [
    "train_size = 0.6\n",
    "seed = 1 \n",
    "x_train, x_test, y_train, y_test = train_test_split(x, y, train_size=train_size, random_state=seed)"
   ]
  },
  {
   "cell_type": "code",
   "execution_count": 21,
   "metadata": {
    "collapsed": true
   },
   "outputs": [],
   "source": [
    "# Instantiate learning model\n",
    "clf = GaussianNB()\n",
    "\n",
    "# Fit model to training set\n",
    "clf.fit(x_train, y_train)\n",
    "\n",
    "# Predict labels of the test set\n",
    "y_pred = clf.predict(x_test)"
   ]
  },
  {
   "cell_type": "code",
   "execution_count": 22,
   "metadata": {},
   "outputs": [
    {
     "name": "stdout",
     "output_type": "stream",
     "text": [
      "       Predicted label   True label\n",
      "164217     Near Native  Near Native\n",
      "136326     Near Native  Near Native\n",
      "139035     Near Native  Near Native\n",
      "184089     Near Native  Near Native\n",
      "49577      Near Native  Near Native\n",
      "76353       Far Native   Far Native\n",
      "72437       Far Native   Far Native\n",
      "134999      Far Native   Far Native\n",
      "185043      Far Native   Far Native\n",
      "50122       Far Native   Far Native\n",
      "150861     Near Native  Near Native\n",
      "4675       Near Native   Far Native\n",
      "4364        Far Native   Far Native\n",
      "8796        Far Native   Far Native\n",
      "9593        Far Native   Far Native\n",
      "157866      Far Native   Far Native\n",
      "103040      Far Native   Far Native\n",
      "157800      Far Native   Far Native\n",
      "183390      Far Native   Far Native\n",
      "163457      Far Native   Far Native\n",
      "70533      Near Native  Near Native\n",
      "68476      Near Native  Near Native\n",
      "178608     Near Native   Far Native\n",
      "143635      Far Native   Far Native\n",
      "164853     Near Native  Near Native\n",
      "138189      Far Native   Far Native\n",
      "67929       Far Native   Far Native\n",
      "86706      Near Native  Near Native\n",
      "2532       Near Native   Far Native\n",
      "86130      Near Native  Near Native\n",
      "...                ...          ...\n",
      "146242      Far Native   Far Native\n",
      "165596      Far Native   Far Native\n",
      "165768     Near Native  Near Native\n",
      "84302      Near Native  Near Native\n",
      "54752      Near Native  Near Native\n",
      "71739       Far Native   Far Native\n",
      "194596      Far Native   Far Native\n",
      "58444       Far Native   Far Native\n",
      "141120      Far Native   Far Native\n",
      "140047      Far Native   Far Native\n",
      "66651      Near Native  Near Native\n",
      "67756      Near Native  Near Native\n",
      "183079     Near Native   Far Native\n",
      "20988       Far Native   Far Native\n",
      "181266      Far Native   Far Native\n",
      "153945      Far Native   Far Native\n",
      "123993     Near Native  Near Native\n",
      "177047      Far Native   Far Native\n",
      "30520       Far Native   Far Native\n",
      "66169      Near Native  Near Native\n",
      "94597      Near Native  Near Native\n",
      "139702      Far Native   Far Native\n",
      "121265      Far Native   Far Native\n",
      "155628      Far Native   Far Native\n",
      "74897       Far Native   Far Native\n",
      "196650      Far Native   Far Native\n",
      "90987      Near Native  Near Native\n",
      "44762       Far Native   Far Native\n",
      "106332     Near Native  Near Native\n",
      "164395     Near Native  Near Native\n",
      "\n",
      "[160000 rows x 2 columns]\n"
     ]
    }
   ],
   "source": [
    "results = pd.DataFrame({'Predicted label': y_pred, 'True label': y_test})\n",
    "print(results)"
   ]
  },
  {
   "cell_type": "code",
   "execution_count": 23,
   "metadata": {},
   "outputs": [
    {
     "name": "stdout",
     "output_type": "stream",
     "text": [
      "Gaussian Naive Bayes: 0.95265\n"
     ]
    }
   ],
   "source": [
    "# Evaluate accuracy\n",
    "accuracy = accuracy_score(y_test, y_pred) # or accuracy = np.mean(y_pred == y_test) \n",
    "print(\"Gaussian Naive Bayes: \" + str(accuracy))"
   ]
  },
  {
   "cell_type": "code",
   "execution_count": 24,
   "metadata": {},
   "outputs": [
    {
     "name": "stdout",
     "output_type": "stream",
     "text": [
      "Gaussian Naive Bayes: 0.95265\n"
     ]
    }
   ],
   "source": [
    "# Or, more concisely (predicts y_pred and evaluates accuracy in a single line of code)\n",
    "accuracy = clf.score(x_test, y_test)\n",
    "print(\"Gaussian Naive Bayes: \" + str(accuracy))"
   ]
  },
  {
   "cell_type": "code",
   "execution_count": 25,
   "metadata": {},
   "outputs": [
    {
     "name": "stdout",
     "output_type": "stream",
     "text": [
      "Gaussian Naive Bayes: 0.95265\n",
      "Decision Tree Classifier: 0.9298125\n",
      "Support Vector Machines: 0.90251875\n",
      "Neural Networks: 0.94026875\n"
     ]
    }
   ],
   "source": [
    "# To evaluate multiple classifiers, store classifiers into a dictionary:\n",
    "classifiers = dict() \n",
    "classifiers['Gaussian Naive Bayes'] = GaussianNB()\n",
    "classifiers['Decision Tree Classifier'] = DecisionTreeClassifier(random_state=seed)\n",
    "classifiers['Support Vector Machines'] = SVC()\n",
    "classifiers['Neural Networks'] = MLPClassifier()\n",
    "\n",
    "# Iterate over dictionary\n",
    "for clf_name, clf in classifiers.items(): #clf_name is the key, clf is the value\n",
    "    clf.fit(x_train, y_train)\n",
    "    accuracy = clf.score(x_test, y_test)\n",
    "    print(clf_name + ': ' + str(accuracy))"
   ]
  }
 ],
 "metadata": {
  "kernelspec": {
   "display_name": "Python 3",
   "language": "python",
   "name": "python3"
  },
  "language_info": {
   "codemirror_mode": {
    "name": "ipython",
    "version": 3
   },
   "file_extension": ".py",
   "mimetype": "text/x-python",
   "name": "python",
   "nbconvert_exporter": "python",
   "pygments_lexer": "ipython3",
   "version": "3.6.1"
  }
 },
 "nbformat": 4,
 "nbformat_minor": 2
}
