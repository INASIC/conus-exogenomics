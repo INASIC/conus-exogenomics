{
 "cells": [
  {
   "cell_type": "markdown",
   "metadata": {},
   "source": [
    "# Flower Classification using Scikit-Learn\n",
    "\n",
    "In this notebook, we will use __Scikit-Learn__ to __classify__ different species of __iris__ flowers.\n",
    "\n",
    "The iris dataset was used in Fisher's classic 1936 paper: *The Use of Multiple Measurements in Taxonomic Problems*, and is a popular toy dataset used in the field of machine learning.\n",
    "\n",
    "### The Dataset\n",
    "\n",
    "The Iris dataset consists of 50 samples from each species of iris. Each iris plant in the dataset has four different __features__ or attributes:\n",
    "* Petal Length\n",
    "* Petal Width\n",
    "* Sepal Length\n",
    "* Sepal Width\n",
    "![alt-text](http://terpconnect.umd.edu/~petersd/666/html/iris_with_labels.jpg)\n",
    "\n",
    "The aim of this notebook is to __classify__ the iris plants into 3 species:\n",
    "* Iris Versicolor\n",
    "* Iris Setosa\n",
    "* Iris Virginica\n",
    "\n",
    "![alt-text](http://dataaspirant.com/wp-content/uploads/2017/01/irises.png)\n",
    "\n",
    "\n",
    "To do this, we will use two popular classification algorithms: __Logistic Regression__, and the __K-Nearest Neighbors__ classifier."
   ]
  },
  {
   "cell_type": "markdown",
   "metadata": {},
   "source": [
    "## Logistic Regression\n",
    "\n",
    "Unlike linear regression, logistic regression is used for predicting __binary dependent variables__, rather than  continuous variables. The binary variables represent different types of __classess__, in this case these are different species of iris flowers. \n",
    "\n",
    "Logistic regression is a method that evaluates decision boundaries between different classes. Here we observe three classes, with their decision boundaries shown. \n",
    "\n",
    "In most cases, decision boundaries are harder to visualize, as most datasets have more than 3 dimensions. The features of the iris dataset for example has 4 dimensions, and is therefore more difficult to visualize.\n",
    "\n",
    "![alt-text](http://scikit-learn.org/stable/_images/sphx_glr_plot_logistic_multinomial_thumb.png)"
   ]
  },
  {
   "cell_type": "markdown",
   "metadata": {},
   "source": [
    "## Loading the Iris Dataset\n",
    "\n",
    "Scikit-learn offers a convenient way of loading toy datasets to experiment with. Here we will use the scikit-learn API to easily load the iris dataset."
   ]
  },
  {
   "cell_type": "code",
   "execution_count": null,
   "metadata": {
    "collapsed": false
   },
   "outputs": [],
   "source": [
    "from sklearn.datasets import load_iris\n",
    "iris = load_iris()"
   ]
  },
  {
   "cell_type": "markdown",
   "metadata": {},
   "source": [
    "### Set Feature and Target Variables\n"
   ]
  },
  {
   "cell_type": "code",
   "execution_count": null,
   "metadata": {
    "collapsed": true
   },
   "outputs": [],
   "source": [
    "X = iris.data\n",
    "y = iris.target"
   ]
  },
  {
   "cell_type": "markdown",
   "metadata": {},
   "source": [
    "### Seperate data into Training and Testing Data\n",
    "\n",
    "When creating machine learning algorithms, we often want to evaluate the performance of our models. To do this, we need to seperate our data into a __training set__ and a __testing set__.\n",
    "\n",
    "We train our model using the training set, and withold some of the data, the testing set, to use later to see how well our model can predict them.\n",
    "\n",
    "This is done so that we can evaluate how well our machine learning algorithm can make predictions for new, unseen data points."
   ]
  },
  {
   "cell_type": "code",
   "execution_count": null,
   "metadata": {
    "collapsed": true
   },
   "outputs": [],
   "source": [
    "from sklearn.model_selection import train_test_split\n",
    "\n",
    "X_train, X_test, y_train, y_test = train_test_split(X, y,\n",
    "                                                   test_size=0.33,\n",
    "                                                   random_state=69)"
   ]
  },
  {
   "cell_type": "markdown",
   "metadata": {},
   "source": [
    "## Training our Logistic Regression Model\n",
    "\n",
    "Now that we have loaded our dataset and seperated our dataset, we will begin the process of training our logistic regression model."
   ]
  },
  {
   "cell_type": "code",
   "execution_count": null,
   "metadata": {
    "collapsed": false
   },
   "outputs": [],
   "source": [
    "from sklearn.linear_model import LogisticRegression\n",
    "\n",
    "lr = LogisticRegression()\n",
    "lr.fit(X_train, y_train)\n",
    "lr.score(X_test, y_test)"
   ]
  },
  {
   "cell_type": "markdown",
   "metadata": {},
   "source": [
    "## Evaluating Performance\n",
    "\n",
    "Now that we have trained our logistic regression model, we will now score the performance of the model at predicting the labels of the testing dataset, given the features of the testing set.\n",
    "\n"
   ]
  },
  {
   "cell_type": "code",
   "execution_count": null,
   "metadata": {
    "collapsed": false
   },
   "outputs": [],
   "source": [
    "lr.score(X_test, y_test)"
   ]
  },
  {
   "cell_type": "markdown",
   "metadata": {},
   "source": [
    "# K-Nearest Neighbours\n",
    "\n",
    "K-Nearest Neighbours is a popular classification algorithm known for its speed and accuracy.\n",
    "\n",
    "The prediction of the class is found by determining the *k* closest neighbours, and voting on the majority of the classes in this neighbourhood of data points, where *k* represents the number of neighbours that the algorithm searches for. \n",
    "\n",
    "Using *k*-NN, the majority vote wins, and the prediction takes on the class of the majority of its neighbours.\n",
    "\n",
    "## Let's look at an example\n",
    "\n",
    "Consider the image below. \n",
    "\n",
    "![alt-text](https://upload.wikimedia.org/wikipedia/commons/thumb/e/e7/KnnClassification.svg/220px-KnnClassification.svg.png)\n",
    "\n",
    "There are two different classes. \n",
    "\n",
    "Want to predict the class of the green data point.\n",
    "\n",
    "To do this we use the *k*-Nearest Neighbours algorithm.\n",
    "\n",
    "The inner circle has *k*=3.\n",
    "\n",
    "The dotted circle has *k*=5\n",
    "\n",
    "If *k*=3, what class would our prediction be? What if *k*=5?"
   ]
  },
  {
   "cell_type": "markdown",
   "metadata": {},
   "source": [
    "# K-Nearest Neighbours Applied to the Iris Dataset\n",
    "\n"
   ]
  },
  {
   "cell_type": "code",
   "execution_count": null,
   "metadata": {
    "collapsed": false
   },
   "outputs": [],
   "source": [
    "from sklearn.neighbors import KNeighborsClassifier\n",
    "\n",
    "knn = KNeighborsClassifier()\n",
    "knn.fit(X_train, y_train)\n",
    "knn.score(X_test, y_test)"
   ]
  },
  {
   "cell_type": "markdown",
   "metadata": {},
   "source": [
    "# Exercise\n",
    "\n",
    "Apply __logistic regression__, and the __*k*-nearest neighbors__ on the MNIST digits dataset. Which one performs better?\n",
    "\n",
    "Tips\n",
    "1. Load the data\n",
    "2. Assign features and targets\n",
    "3. Seperate data into training set and testing set\n",
    "4. Train your models\n",
    "5. Score their accuracy"
   ]
  },
  {
   "cell_type": "code",
   "execution_count": null,
   "metadata": {
    "collapsed": false
   },
   "outputs": [],
   "source": [
    "from sklearn.datasets import load_digits\n",
    "\n"
   ]
  },
  {
   "cell_type": "markdown",
   "metadata": {},
   "source": [
    "## Solutions\n",
    "\n",
    "To load these solutions, uncomment the code block below and run it. \n",
    "\n",
    "I highly recommend looking at them only after you've attempted the problem. If you are stuck, feel free to ask me for help, or work together with others."
   ]
  },
  {
   "cell_type": "code",
   "execution_count": null,
   "metadata": {
    "collapsed": false
   },
   "outputs": [],
   "source": [
    "# %load solutions/02_digits_knn_lr.py"
   ]
  }
 ],
 "metadata": {
  "kernelspec": {
   "display_name": "Python 3",
   "language": "python",
   "name": "python3"
  },
  "language_info": {
   "codemirror_mode": {
    "name": "ipython",
    "version": 3
   },
   "file_extension": ".py",
   "mimetype": "text/x-python",
   "name": "python",
   "nbconvert_exporter": "python",
   "pygments_lexer": "ipython3",
   "version": "3.6.0"
  }
 },
 "nbformat": 4,
 "nbformat_minor": 2
}
