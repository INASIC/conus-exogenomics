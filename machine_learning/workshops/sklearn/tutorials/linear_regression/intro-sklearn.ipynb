{
 "cells": [
  {
   "cell_type": "markdown",
   "metadata": {},
   "source": [
    "# Introduction to the Course\n",
    "\n",
    "In these series of workshops, we will be developing our understanding of machine learning techniques so that we can ultimately apply them to our research problems in the conus exogenomics group.\n",
    "\n",
    "We will begin the course by becoming familiar with the popular machine learning library: __scikit-learn__.\n",
    "\n",
    "![alt-text](http://www.scipy-lectures.org/_images/scikit-learn-logo.png)"
   ]
  },
  {
   "cell_type": "markdown",
   "metadata": {},
   "source": [
    "## Installation\n",
    "\n",
    "These tutorials will require recent installations of:\n",
    "* numpy\n",
    "* scipy\n",
    "* matplotlib\n",
    "* scikit-learn\n",
    "* ipython with ipython notebook (Jupyter Notebook)\n",
    "\n",
    "To easily install these all at once, I suggest installing [Anaconda](https://www.continuum.io/what-is-anaconda)"
   ]
  },
  {
   "cell_type": "markdown",
   "metadata": {},
   "source": [
    "## Downloading Course Materials\n",
    "\n",
    "To download the course materials, I highly recommend installing __git__, and creating a __GitHub__ account if you haven't already. \n",
    "\n",
    "To install git, simply run the following command in the terminal:\n",
    "\n",
    "```\n",
    "sudo apt-get install git\n",
    "```\n",
    "\n",
    "Once git is installed, you can clone the material in this workshop by running the following command:\n",
    "\n",
    "```\n",
    "git clone https://github.com/INASIC/conus-exogenomics/tree/master/machine_learning/workshops/sklearn/tutorials\n",
    "```"
   ]
  },
  {
   "cell_type": "markdown",
   "metadata": {},
   "source": [
    "## Table of Contents\n",
    "\n",
    "1. Linear Regression\n",
    " * Loading the dataset\n",
    " * Preparing the dataset\n",
    " * Fitting the model\n",
    " * Evaluating the model\n",
    "2. Introduction to Classification\n",
    " * The Iris dataset\n",
    " * Class label encoding\n",
    " * Scikit-learn's in-build datasets\n",
    " * Test/train splits\n",
    " * Logistic Regression\n",
    " * K-Nearest Neighbors\n",
    " * Exercises"
   ]
  },
  {
   "cell_type": "markdown",
   "metadata": {
    "collapsed": true
   },
   "source": [
    "# 1. Linear Regression\n",
    "\n",
    "We will begin the workshop by looking at the simple linear regression algorithm to fit a straight line onto a dataset. \n",
    "\n",
    "## The Investigation\n",
    "\n",
    "The dataset we will look at is collected from the following source: \n",
    "\n",
    "R.J. Gladstone (1905). \"*A Study of the Relations of the Brain to to the Size of the Head*\", Biometrika, Vol. 4, pp105-123\n",
    "\n",
    "Here, we will investigate the relationship between brain weight (in grams) to head size (cubic cm) for 237 adults classified by gender and age group."
   ]
  },
  {
   "cell_type": "markdown",
   "metadata": {},
   "source": [
    "## Import Dependencies"
   ]
  },
  {
   "cell_type": "code",
   "execution_count": 30,
   "metadata": {
    "collapsed": true
   },
   "outputs": [],
   "source": [
    "%matplotlib inline\n",
    "import pandas as pd\n",
    "import matplotlib.pyplot as plt\n",
    "import numpy as np\n",
    "\n",
    "# suppress warning messages\n",
    "import warnings; warnings.simplefilter('ignore')"
   ]
  },
  {
   "cell_type": "markdown",
   "metadata": {},
   "source": [
    "## Loading the Dataset\n",
    "\n",
    "Here, we use pandas to load the dataset into a pandas __dataframe__.\n",
    "\n",
    "We then print out the first few lines of this dataset using the __.tail()__ command."
   ]
  },
  {
   "cell_type": "code",
   "execution_count": 31,
   "metadata": {
    "collapsed": false
   },
   "outputs": [
    {
     "data": {
      "text/html": [
       "<div>\n",
       "<table border=\"1\" class=\"dataframe\">\n",
       "  <thead>\n",
       "    <tr style=\"text-align: right;\">\n",
       "      <th></th>\n",
       "      <th>gender</th>\n",
       "      <th>age-group</th>\n",
       "      <th>head-size</th>\n",
       "      <th>brain-weight</th>\n",
       "    </tr>\n",
       "  </thead>\n",
       "  <tbody>\n",
       "    <tr>\n",
       "      <th>232</th>\n",
       "      <td>2</td>\n",
       "      <td>2</td>\n",
       "      <td>3214</td>\n",
       "      <td>1110</td>\n",
       "    </tr>\n",
       "    <tr>\n",
       "      <th>233</th>\n",
       "      <td>2</td>\n",
       "      <td>2</td>\n",
       "      <td>3394</td>\n",
       "      <td>1215</td>\n",
       "    </tr>\n",
       "    <tr>\n",
       "      <th>234</th>\n",
       "      <td>2</td>\n",
       "      <td>2</td>\n",
       "      <td>3233</td>\n",
       "      <td>1104</td>\n",
       "    </tr>\n",
       "    <tr>\n",
       "      <th>235</th>\n",
       "      <td>2</td>\n",
       "      <td>2</td>\n",
       "      <td>3352</td>\n",
       "      <td>1170</td>\n",
       "    </tr>\n",
       "    <tr>\n",
       "      <th>236</th>\n",
       "      <td>2</td>\n",
       "      <td>2</td>\n",
       "      <td>3391</td>\n",
       "      <td>1120</td>\n",
       "    </tr>\n",
       "  </tbody>\n",
       "</table>\n",
       "</div>"
      ],
      "text/plain": [
       "     gender  age-group  head-size  brain-weight\n",
       "232       2          2       3214          1110\n",
       "233       2          2       3394          1215\n",
       "234       2          2       3233          1104\n",
       "235       2          2       3352          1170\n",
       "236       2          2       3391          1120"
      ]
     },
     "execution_count": 31,
     "metadata": {},
     "output_type": "execute_result"
    }
   ],
   "source": [
    "df = pd.read_csv('./data/dataset_brain.txt', \n",
    "                 encoding='utf-8', \n",
    "                 comment='#',\n",
    "                 sep='\\s+')\n",
    "df.tail()"
   ]
  },
  {
   "cell_type": "markdown",
   "metadata": {},
   "source": [
    "## Visualize the Dataset\n",
    "\n",
    "Here, we use matplotlib to visualize the dataset."
   ]
  },
  {
   "cell_type": "code",
   "execution_count": 32,
   "metadata": {
    "collapsed": false
   },
   "outputs": [
    {
     "data": {
      "image/png": "[encoded data removed]",
      "text/plain": [
       "<matplotlib.figure.Figure at 0x7f948bfc9f98>"
      ]
     },
     "metadata": {},
     "output_type": "display_data"
    }
   ],
   "source": [
    "plt.scatter(df['head-size'], df['brain-weight'])\n",
    "plt.xlabel('Head size (cm^3)')\n",
    "plt.ylabel('Brain weight (grams)');"
   ]
  },
  {
   "cell_type": "markdown",
   "metadata": {},
   "source": [
    "## Preparing the Dataset\n",
    "\n",
    "Before we can begin applying linear regression on our data, we first need to prepare the dataset using pandas."
   ]
  },
  {
   "cell_type": "code",
   "execution_count": 33,
   "metadata": {
    "collapsed": false
   },
   "outputs": [
    {
     "data": {
      "text/plain": [
       "(237, 1)"
      ]
     },
     "execution_count": 33,
     "metadata": {},
     "output_type": "execute_result"
    }
   ],
   "source": [
    "y = df['brain-weight'].values\n",
    "y.shape\n",
    "\n",
    "\n",
    "X = df['head-size'].values\n",
    "X = X[:, np.newaxis]\n",
    "X.shape"
   ]
  },
  {
   "cell_type": "markdown",
   "metadata": {},
   "source": [
    "## Seperating the Data\n",
    "\n",
    "Here, we split our dataset into three sections: \n",
    "1. Training data\n",
    "    * What we train our algorithm on\n",
    "2. Testing data\n",
    "    * What we use to evaluate the performance of our algorithm, after training\n",
    "    \n",
    "We then visualize this split dataset to get a better intuition into the spread of our data."
   ]
  },
  {
   "cell_type": "code",
   "execution_count": 34,
   "metadata": {
    "collapsed": false
   },
   "outputs": [],
   "source": [
    "from sklearn.cross_validation import train_test_split\n",
    "\n",
    "X_train, X_test, y_train, y_test = train_test_split(\n",
    "        X, y, test_size=0.3, random_state=123)"
   ]
  },
  {
   "cell_type": "code",
   "execution_count": 35,
   "metadata": {
    "collapsed": false
   },
   "outputs": [
    {
     "data": {
      "image/png": "[encoded data removed]",
      "text/plain": [
       "<matplotlib.figure.Figure at 0x7f949026fdd8>"
      ]
     },
     "metadata": {},
     "output_type": "display_data"
    }
   ],
   "source": [
    "plt.scatter(X_train, y_train, c='blue', marker='o')\n",
    "plt.scatter(X_test, y_test, c='red', marker='s')\n",
    "plt.xlabel('Head size (cm^3)')\n",
    "plt.ylabel('Brain weight (grams)');"
   ]
  },
  {
   "cell_type": "markdown",
   "metadata": {},
   "source": [
    "## Training our Linear Regression Model"
   ]
  },
  {
   "cell_type": "code",
   "execution_count": 36,
   "metadata": {
    "collapsed": true
   },
   "outputs": [],
   "source": [
    "from sklearn.linear_model import LinearRegression\n",
    "\n",
    "lr = LinearRegression()\n",
    "lr.fit(X_train, y_train)\n",
    "y_pred = lr.predict(X_test)"
   ]
  },
  {
   "cell_type": "markdown",
   "metadata": {},
   "source": [
    "## Evaluating the Performance of our Model"
   ]
  },
  {
   "cell_type": "code",
   "execution_count": 37,
   "metadata": {
    "collapsed": false
   },
   "outputs": [
    {
     "name": "stdout",
     "output_type": "stream",
     "text": [
      "R2 score: 0.635\n"
     ]
    }
   ],
   "source": [
    "sum_of_squares = ((y_test - y_pred) ** 2).sum()\n",
    "res_sum_of_squares = ((y_test - y_test.mean()) ** 2).sum()\n",
    "r2_score = 1 - (sum_of_squares / res_sum_of_squares)\n",
    "print('R2 score: %.3f' % r2_score)"
   ]
  },
  {
   "cell_type": "code",
   "execution_count": 38,
   "metadata": {
    "collapsed": false
   },
   "outputs": [
    {
     "name": "stdout",
     "output_type": "stream",
     "text": [
      "R2 score: 0.635\n"
     ]
    }
   ],
   "source": [
    "print('R2 score: %.3f' % lr.score(X_test, y_test))"
   ]
  },
  {
   "cell_type": "code",
   "execution_count": 39,
   "metadata": {
    "collapsed": false
   },
   "outputs": [
    {
     "data": {
      "text/plain": [
       "array([ 0.271117])"
      ]
     },
     "execution_count": 39,
     "metadata": {},
     "output_type": "execute_result"
    }
   ],
   "source": [
    "lr.coef_"
   ]
  },
  {
   "cell_type": "code",
   "execution_count": 40,
   "metadata": {
    "collapsed": false
   },
   "outputs": [
    {
     "data": {
      "text/plain": [
       "302.03033196088086"
      ]
     },
     "execution_count": 40,
     "metadata": {},
     "output_type": "execute_result"
    }
   ],
   "source": [
    "lr.intercept_"
   ]
  },
  {
   "cell_type": "code",
   "execution_count": 41,
   "metadata": {
    "collapsed": false
   },
   "outputs": [
    {
     "data": {
      "text/plain": [
       "<matplotlib.text.Text at 0x7f94930f2780>"
      ]
     },
     "execution_count": 41,
     "metadata": {},
     "output_type": "execute_result"
    },
    {
     "data": {
      "image/png": "[encoded data removed]",
      "text/plain": [
       "<matplotlib.figure.Figure at 0x7f94930cf908>"
      ]
     },
     "metadata": {},
     "output_type": "display_data"
    }
   ],
   "source": [
    "min_pred = X_train.min() * lr.coef_ + lr.intercept_\n",
    "max_pred = X_train.max() * lr.coef_ + lr.intercept_\n",
    "\n",
    "plt.scatter(X_train, y_train, c='blue', marker='o')\n",
    "plt.plot([X_train.min(), X_train.max()],\n",
    "         [min_pred, max_pred],\n",
    "         color='red',\n",
    "         linewidth=4)\n",
    "plt.suptitle('Linear Regression Algorithm')\n",
    "plt.xlabel('Head size (cm^3)')\n",
    "plt.ylabel('Brain weight (grams)')"
   ]
  },
  {
   "cell_type": "markdown",
   "metadata": {},
   "source": [
    "## Exercises\n",
    "\n",
    "Now that we have discussed one example of linear regression, we will now work together to analyze datasets of our own choosing.\n",
    "\n",
    "Go to this link, and [download](http://archive.ics.uci.edu/ml/datasets.html?area=&att=&format=&numAtt=&numIns=&sort=attup&task=reg&type=&view=table) a dataset of your choosing.\n",
    "\n",
    "## Your Assignment\n",
    "\n",
    "Following the tutorial we have just discussed, you are to:\n",
    "1. __Train__ a __linear regression model__ on your dataset using scikit-learn. \n",
    "2. __Upload__ your results to the conus-exogenomics [repository](https://github.com/INASIC/conus-exogenomics/tree/master/machine_learning/workshops/sklearn/tutorials/submissions/linear_regression) \n",
    "3. __Discuss__ your results with the group."
   ]
  },
  {
   "cell_type": "markdown",
   "metadata": {},
   "source": [
    "# Uploading to GitHub\n",
    "\n"
   ]
  },
  {
   "cell_type": "markdown",
   "metadata": {},
   "source": [
    "## Next Week\n",
    "\n",
    "[Introduction to Classification](https://github.com/INASIC/conus-exogenomics/tree/master/machine_learning/workshops/sklearn/tutorials/classification)"
   ]
  }
 ],
 "metadata": {
  "kernelspec": {
   "display_name": "Python 3",
   "language": "python",
   "name": "python3"
  },
  "language_info": {
   "codemirror_mode": {
    "name": "ipython",
    "version": 3
   },
   "file_extension": ".py",
   "mimetype": "text/x-python",
   "name": "python",
   "nbconvert_exporter": "python",
   "pygments_lexer": "ipython3",
   "version": "3.6.0"
  }
 },
 "nbformat": 4,
 "nbformat_minor": 2
}
