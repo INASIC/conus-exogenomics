{
 "cells": [
  {
   "cell_type": "markdown",
   "metadata": {},
   "source": [
    "# The Problem\n",
    "\n"
   ]
  },
  {
   "cell_type": "markdown",
   "metadata": {},
   "source": [
    "## Initial Energy Terms\n",
    "\n",
    "Here we initialize the energy terms, defined by the total energy equation:\n",
    "\n",
    "![alt text](https://image.slidesharecdn.com/molecularmodellingforinsilicodrugdiscovery-141212161303-conversion-gate01/95/molecular-modelling-for-in-silico-drug-discovery-17-638.jpg?cb=1454359395)\n",
    "\n",
    "In our model, we introduce some other energy terms to this energy equation, as shown in the next code block:"
   ]
  },
  {
   "cell_type": "code",
   "execution_count": 77,
   "metadata": {
    "collapsed": false
   },
   "outputs": [
    {
     "name": "stdout",
     "output_type": "stream",
     "text": [
      "-267.028\n"
     ]
    }
   ],
   "source": [
    "import numpy as np\n",
    "import random as random\n",
    "\n",
    "# returns a vector that has all the energy terms \n",
    "def energy_terms():\n",
    "    # initial values of the energy terms\n",
    "    bond = 49.7829\n",
    "    angle = 138.4463\n",
    "    dihed = 217.8041\n",
    "    nb = 39.1752\n",
    "    eel = 695.8385\n",
    "    vdw = -83.5197\n",
    "    el = -1162.1836\n",
    "    egb = -162.3717\n",
    "    \n",
    "    return np.array([bond, angle, dihed, nb, eel, vdw, el, egb])\n",
    "\n",
    "# https://docs.scipy.org/doc/numpy/reference/generated/numpy.array.html\n",
    "    \n",
    "print(sum(energy_terms()))"
   ]
  },
  {
   "cell_type": "markdown",
   "metadata": {},
   "source": [
    "## Consider the weights in the equation"
   ]
  },
  {
   "cell_type": "code",
   "execution_count": 10,
   "metadata": {
    "collapsed": false
   },
   "outputs": [
    {
     "name": "stdout",
     "output_type": "stream",
     "text": [
      "8\n"
     ]
    }
   ],
   "source": [
    "# initialize all the weights to 1\n",
    "wb = 1\n",
    "wa = 1\n",
    "wd = 1\n",
    "wn = 1\n",
    "wee = 1\n",
    "wv = 1\n",
    "wel = 1\n",
    "weg = 1\n",
    "\n",
    "weights = [wb,wa,wd,wn,wee,wv,wel,weg]\n",
    "\n",
    "# returns a vector describing all of the weights\n",
    "def weights():\n",
    "    return [wb,wa,wd,wn,wee,wv,wel,weg]\n",
    "\n",
    "print(sum(weights()))"
   ]
  },
  {
   "cell_type": "markdown",
   "metadata": {},
   "source": [
    "The sum of these weights is equal to 8. We want to keep this sum total weight equal to 8 as we perform our sensitivity analysis, while redistributing the individual weights."
   ]
  },
  {
   "cell_type": "code",
   "execution_count": 17,
   "metadata": {
    "collapsed": false
   },
   "outputs": [
    {
     "name": "stdout",
     "output_type": "stream",
     "text": [
      "-267.02800000000013\n"
     ]
    }
   ],
   "source": [
    "def total_energy():    \n",
    "    return wb*bond + wa*angle + wd*dihed + wn*nb + wee*eel + wv*vdw + wel*el + weg*egb\n",
    "\n",
    "print(total_energy())"
   ]
  },
  {
   "cell_type": "markdown",
   "metadata": {},
   "source": [
    "# Energy Minimization via Sensitivity Analysis\n",
    "\n",
    "The objective here is to minimize the total energy via the process of sensitivity analysis. In other words, we will vary the weights of each of the energy terms, while keeping the sum total weights constant, so that we return the lowest value of total energy.\n",
    "\n",
    "Here we use the __one-at-a-time__ technique known in the field of sensitivty analysis, to vary the weights individually, one at a time."
   ]
  },
  {
   "cell_type": "code",
   "execution_count": null,
   "metadata": {
    "collapsed": true
   },
   "outputs": [],
   "source": []
  },
  {
   "cell_type": "markdown",
   "metadata": {},
   "source": [
    "## Genetic Algorithm\n",
    "\n",
    "Instead of using the one-at-a-time method, I have chosen to try a different method. \n",
    "\n",
    "Here we apply the metaheuristic, a genetic algorithm, to solve the energy minimization problem by redistributing the weights such that the total energy equation is minimized."
   ]
  },
  {
   "cell_type": "code",
   "execution_count": 203,
   "metadata": {
    "collapsed": false
   },
   "outputs": [
    {
     "name": "stdout",
     "output_type": "stream",
     "text": [
      "8.0\n",
      "[6.131103168674101, 1.0396547403942122, 0.7556627445569424, 0.06360118699589173, 0.0011069394528320745, 0.0011527028117522583, 0.0006611989796957597, 0.007057318134572676]\n",
      "8.0\n",
      "[ 614.99811557]\n",
      "[-267.028]\n"
     ]
    }
   ],
   "source": [
    "# random initialization of an attempt at the solution, an \"individual\"\n",
    "individual = []\n",
    "\n",
    "# total amount of weight left to be redistributed \n",
    "total_weight_left = float(len(weights()))\n",
    "print(total_weight_left)\n",
    "\n",
    "# distribute random weights to an individual, while keeping total weight constant\n",
    "for weight in (range(len(weights())-1)):    \n",
    "    distribute = random.uniform(0,1) * total_weight_left\n",
    "    total_weight_left -= distribute\n",
    "    new_weight = distribute\n",
    "    individual.append(new_weight)\n",
    "    \n",
    "# add what's left to be distributed, as the final weight \n",
    "individual.append(total_weight_left)\n",
    "\n",
    "# total weight is unchanged \n",
    "# weights have been randomly distributed\n",
    "print(individual)\n",
    "print(sum(individual))\n",
    "\n",
    "\"\"\"initialize energy terms\"\"\"\n",
    "\n",
    "bond = 49.7829\n",
    "angle = 138.4463\n",
    "dihed = 217.8041\n",
    "nb = 39.1752\n",
    "eel = 695.8385\n",
    "vdw = -83.5197\n",
    "el = -1162.1836\n",
    "egb = -162.3717\n",
    "\n",
    "energy_terms = np.array([[bond], [angle], [dihed], [nb], [eel], [vdw], [el], [egb]])\n",
    "\n",
    "\"\"\"matrix multiplication to computer total_energy\"\"\"\n",
    "\n",
    "np.array(individual)\n",
    "\n",
    "# calculate dot product of the arrays\n",
    "total_energy = np.dot(individual, energy_terms)\n",
    "\n",
    "print(total_energy)\n",
    "\n",
    "# repeat this, but with weights all equal to 1 just to verfiy that it's working\n",
    "print(np.dot(np.ones(len(energy_terms)), energy_terms))"
   ]
  },
  {
   "cell_type": "markdown",
   "metadata": {},
   "source": [
    "##### Potential Problem\n",
    "\n",
    "It is worth noting that this method of distributing weights will favour the generated weights at the start of the for loop. The weights towards the end of the list will be closer to zero, and the weights at the start of the individual's list of weights will be closer to 8, as it has a greater chance at getting the total weight of 8, as there is more total weight left to choose from.\n",
    "\n",
    "To address this problem, I shuffle the weights in the next section, but perhaps more can be done to improve this."
   ]
  },
  {
   "cell_type": "code",
   "execution_count": 209,
   "metadata": {
    "collapsed": false
   },
   "outputs": [
    {
     "name": "stdout",
     "output_type": "stream",
     "text": [
      "\n",
      "Here are the weights for the following energy terms...\n",
      "\n",
      " bond = 0.019092348856810923\n",
      " angle = 0.04041668748175255\n",
      " dihed = 0.022182191513807733\n",
      " nb = 0.00523848843796337\n",
      " eel = 0.10572708745745141\n",
      " vdw = 0.013678634950055493\n",
      " el = 7.738814013447898\n",
      " egb = 0.05485054785426009\n",
      "\n",
      "8.0\n",
      "[0.019092348856810923, 0.04041668748175255, 0.022182191513807733, 0.00523848843796337, 0.10572708745745141, 0.013678634950055493, 7.738814013447898, 0.05485054785426009]\n",
      "[-267.028]\n",
      "[-8918.8197597]\n"
     ]
    }
   ],
   "source": [
    "population = []\n",
    "\n",
    "# random initialization of an attempt at the solution, an \"individual\"\n",
    "individual = []\n",
    "\n",
    "# total amount of weight left to be redistributed \n",
    "total_weight_left = float(len(weights()))\n",
    "# print(total_weight_left)\n",
    "\n",
    "# distribute random weights to an individual, while keeping total weight constant\n",
    "for weight in (range(len(weights())-1)):    \n",
    "    distribute = random.uniform(0,1) * total_weight_left\n",
    "    total_weight_left -= distribute\n",
    "    new_weight = distribute\n",
    "    individual.append(new_weight)\n",
    "    \n",
    "# add what's left to be distributed, as the final weight \n",
    "individual.append(total_weight_left)\n",
    "\n",
    "# total weight is unchanged \n",
    "# weights have been randomly distributed\n",
    "\n",
    "# randomly shuffle the weights in the list\n",
    "random.shuffle(individual)\n",
    "print_weights_of(individual)\n",
    "\n",
    "# print(individual)\n",
    "# print(sum(individual))\n",
    "\n",
    "\"\"\"initialize energy terms\"\"\"\n",
    "\n",
    "bond = 49.7829\n",
    "angle = 138.4463\n",
    "dihed = 217.8041\n",
    "nb = 39.1752\n",
    "eel = 695.8385\n",
    "vdw = -83.5197\n",
    "el = -1162.1836\n",
    "egb = -162.3717\n",
    "\n",
    "energy_terms = np.array([[bond], [angle], [dihed], [nb], [eel], [vdw], [el], [egb]])\n",
    "\n",
    "\"\"\"matrix multiplication to computer total_energy\"\"\"\n",
    "\n",
    "np.array(individual)\n",
    "\n",
    "# calculate dot product of the arrays\n",
    "total_energy = np.dot(individual, energy_terms)\n",
    "\n",
    "# original weights of 1\n",
    "original_energy = np.dot(np.ones(len(energy_terms)), energy_terms)\n",
    "\n",
    "# print sum of all the weights in this attempt at the solution, notice it is constant\n",
    "print(sum(individual))\n",
    "print(individual)\n",
    "print(original_energy)\n",
    "print(total_energy)\n",
    "# the objective is to return the most negative total_energy"
   ]
  },
  {
   "cell_type": "markdown",
   "metadata": {},
   "source": [
    "## Incomplete, but working Genetic Algorithm\n",
    "\n",
    "This code can be made much more efficient by using the subroutines involved in a genetic algorithm:\n",
    "* mutation\n",
    "* crossover\n",
    "* tournament selection\n",
    "\n",
    "However, this piece of code __does work__ as a kind of heuristic to this problem. If you change the value of end to higher value, you will eventually reach the solution with enough accuracy."
   ]
  },
  {
   "cell_type": "code",
   "execution_count": 221,
   "metadata": {
    "collapsed": false
   },
   "outputs": [
    {
     "name": "stdout",
     "output_type": "stream",
     "text": [
      "[-9194.05261623]\n",
      "[0.05122504962148345, 0.02262148245402208, 0.0007665190406000878, 0.0034207023272021875, 0.0011036484602956855, 0.004089114123908813, 7.916491128360906, 0.00028235561158206416]\n",
      "\n",
      "Here are the weights for the following energy terms...\n",
      "\n",
      " bond = 0.05122504962148345\n",
      " angle = 0.02262148245402208\n",
      " dihed = 0.0007665190406000878\n",
      " nb = 0.0034207023272021875\n",
      " eel = 0.0011036484602956855\n",
      " vdw = 0.004089114123908813\n",
      " el = 7.916491128360906\n",
      " egb = 0.00028235561158206416\n",
      "\n",
      "This results in the following energy [-9194.05261623]\n"
     ]
    }
   ],
   "source": [
    "# original weights of 1\n",
    "original_energy = np.dot(np.ones(len(energy_terms)), energy_terms)\n",
    "last_energy = original_energy\n",
    "end = 100\n",
    "\n",
    "for a in range(end):\n",
    "\n",
    "    population = []\n",
    "\n",
    "    # random initialization of an attempt at the solution, an \"individual\"\n",
    "    individual = []\n",
    "\n",
    "    # total amount of weight left to be redistributed \n",
    "    total_weight_left = float(len(weights()))\n",
    "    # print(total_weight_left)\n",
    "\n",
    "    # distribute random weights to an individual, while keeping total weight constant\n",
    "    for weight in (range(len(weights())-1)):    \n",
    "        distribute = random.uniform(0,1) * total_weight_left\n",
    "        total_weight_left -= distribute\n",
    "        new_weight = distribute\n",
    "        individual.append(new_weight)\n",
    "\n",
    "    # add what's left to be distributed, as the final weight \n",
    "    individual.append(total_weight_left)\n",
    "\n",
    "    # total weight is unchanged \n",
    "    # weights have been randomly distributed\n",
    "\n",
    "    # randomly shuffle the weights in the list\n",
    "    random.shuffle(individual)\n",
    "\n",
    "    \"\"\"initialize energy terms\"\"\"\n",
    "\n",
    "    bond = 49.7829\n",
    "    angle = 138.4463\n",
    "    dihed = 217.8041\n",
    "    nb = 39.1752\n",
    "    eel = 695.8385\n",
    "    vdw = -83.5197\n",
    "    el = -1162.1836\n",
    "    egb = -162.3717\n",
    "\n",
    "    energy_terms = np.array([[bond], [angle], [dihed], [nb], [eel], [vdw], [el], [egb]])\n",
    "\n",
    "    \"\"\"matrix multiplication to computer total_energy\"\"\"\n",
    "\n",
    "    np.array(individual)\n",
    "\n",
    "    # calculate dot product of the arrays\n",
    "    total_energy = np.dot(individual, energy_terms)\n",
    "\n",
    "    if total_energy < last_energy:\n",
    "        last_energy = total_energy\n",
    "        best_weights = individual\n",
    "    \n",
    "print(last_energy)\n",
    "print(best_weights)\n",
    "print_weights_of(best_weights)\n",
    "print('This results in the following energy', last_energy)"
   ]
  },
  {
   "cell_type": "code",
   "execution_count": 173,
   "metadata": {
    "collapsed": false
   },
   "outputs": [],
   "source": [
    "def print_weights_of(weights):\n",
    "    print()\n",
    "    print(\"Here are the weights for the following energy terms...\")\n",
    "    print()\n",
    "    print(\" bond =\", weights[0])\n",
    "    print(\" angle =\", weights[1])\n",
    "    print(\" dihed =\", weights[2])\n",
    "    print(\" nb =\", weights[3])\n",
    "    print(\" eel =\", weights[4])\n",
    "    print(\" vdw =\", weights[5])\n",
    "    print(\" el =\", weights[6])\n",
    "    print(\" egb =\", weights[7])\n",
    "    print()"
   ]
  },
  {
   "cell_type": "markdown",
   "metadata": {},
   "source": [
    "## Left to do\n",
    "\n",
    "1. Repeatedly add solutions to fill an initial population\n",
    "2. Define the fitness function: how negative the total energy is\n",
    "3. evaluate the fittest solution, i.e. the one that has the most negative energy\n",
    "4. add fittest solution to the next generation (elitism)\n",
    "5. tournament selection of individuals\n",
    "6. mutation operator (peterb the weights slightly)\n",
    "7. crossover operator, use fractions instead of just weights, to keep the total weight constant at 8\n",
    "8. loop and print out fittest solution of each generation\n",
    "9. plot fitness against generation number\n",
    "10. return weights of fittest solution, and its total energy"
   ]
  },
  {
   "cell_type": "markdown",
   "metadata": {
    "collapsed": true
   },
   "source": [
    "# Rashid's Code"
   ]
  },
  {
   "cell_type": "code",
   "execution_count": 1,
   "metadata": {
    "collapsed": false
   },
   "outputs": [],
   "source": [
    "# # initialization of the energy and weight vectors\n",
    "# evector = [49.7829, 138.4463, 217.8041, 39.1752, 691.3034, -87.4435, -1053.1789, -272.7384]\n",
    "# weights = [1]*8\n",
    "\n",
    "# # definition of the magnitude of perturbation\n",
    "# pert = .001\n",
    "\n",
    "# # perturbation of the weight vector\n",
    "# def perturb(wvector, index):\n",
    "#     wvector[index] += pert\n",
    "#     for i in list(range(8)):\n",
    "#         if index != i:\n",
    "#             wvector[i] -= pert/7.\n",
    "            \n",
    "# # calculation of the total energy\n",
    "# def sum_energies(wvector):\n",
    "#     sum_components = 0\n",
    "#     for i in list(range(8)):\n",
    "#         sum_components += evector[i] * wvector[i]\n",
    "#     return sum_components\n",
    "\n",
    "# energy = sum_energies(weights)\n",
    "\n",
    "# # performs perturbation until energy reaches a threshold\n",
    "# while energy > -400:\n",
    "#     # iterates over all elements in the weight vector\n",
    "#     for i in list(range(8)):\n",
    "#         # performs the perturbation at the current element\n",
    "#         perturb(weights, i)\n",
    "#         # if energy decreases, prints the value\n",
    "#         if sum_energies(weights) < energy:\n",
    "#             energy = sum_energies(weights)\n",
    "#             print(energy)"
   ]
  }
 ],
 "metadata": {
  "kernelspec": {
   "display_name": "Python 3",
   "language": "python",
   "name": "python3"
  },
  "language_info": {
   "codemirror_mode": {
    "name": "ipython",
    "version": 3
   },
   "file_extension": ".py",
   "mimetype": "text/x-python",
   "name": "python",
   "nbconvert_exporter": "python",
   "pygments_lexer": "ipython3",
   "version": "3.6.0"
  }
 },
 "nbformat": 4,
 "nbformat_minor": 2
}
