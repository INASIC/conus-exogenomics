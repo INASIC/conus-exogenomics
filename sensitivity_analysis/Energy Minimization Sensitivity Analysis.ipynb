{
 "cells": [
  {
   "cell_type": "markdown",
   "metadata": {},
   "source": [
    "# The Problem\n",
    "\n"
   ]
  },
  {
   "cell_type": "markdown",
   "metadata": {},
   "source": [
    "## Initial Energy Terms\n",
    "\n",
    "Here we initialize the energy terms, defined by the total energy equation:\n",
    "\n",
    "![alt text](https://image.slidesharecdn.com/molecularmodellingforinsilicodrugdiscovery-141212161303-conversion-gate01/95/molecular-modelling-for-in-silico-drug-discovery-17-638.jpg?cb=1454359395)\n",
    "\n",
    "In our model, we introduce some other energy terms to this energy equation, as shown in the next code block:"
   ]
  },
  {
   "cell_type": "code",
   "execution_count": 5,
   "metadata": {
    "collapsed": false
   },
   "outputs": [
    {
     "name": "stdout",
     "output_type": "stream",
     "text": [
      "-279.0445000000003\n"
     ]
    }
   ],
   "source": [
    "# initial values of the energy terms\n",
    "bond = 40.3142\n",
    "angle = 147.7069\n",
    "dihed = 201.78\n",
    "NB = 43.3909\n",
    "EEL = 695.8385\n",
    "VDW = -83.5197\n",
    "EL = -1162.1836\n",
    "EGB = -162.3717\n",
    "\n",
    "total_energy = bond + angle + dihed + NB + EEL + VDW + EL + EGB\n",
    "print(total_energy)"
   ]
  },
  {
   "cell_type": "markdown",
   "metadata": {},
   "source": [
    "## Consider the weights in the equation"
   ]
  },
  {
   "cell_type": "code",
   "execution_count": 11,
   "metadata": {
    "collapsed": false
   },
   "outputs": [
    {
     "name": "stdout",
     "output_type": "stream",
     "text": [
      "8\n"
     ]
    }
   ],
   "source": [
    "# initialize all the weights to 1\n",
    "wb = 1\n",
    "wa = 1\n",
    "wd = 1\n",
    "wn = 1\n",
    "wee = 1\n",
    "wv = 1\n",
    "wel = 1\n",
    "weg = 1\n",
    "\n",
    "weights = [wb,wa]\n",
    "\n",
    "def Sum_Weights():\n",
    "    return wb + wa + wd + wn + wee + wv + wel + weg\n",
    "\n",
    "print(Sum_Weights())"
   ]
  },
  {
   "cell_type": "code",
   "execution_count": 13,
   "metadata": {
    "collapsed": false
   },
   "outputs": [
    {
     "name": "stdout",
     "output_type": "stream",
     "text": [
      "-279.0445000000003\n"
     ]
    }
   ],
   "source": [
    "def Total_Energy():\n",
    "    return wb*bond + wa*angle + wd*dihed + wn*NB + wee*EEL + wv*VDW + wel*EL + weg*EGB\n",
    "\n",
    "print(Total_Energy())"
   ]
  },
  {
   "cell_type": "markdown",
   "metadata": {},
   "source": [
    "# Energy Minimization via Sensitivity Analysis\n",
    "\n",
    "The objective here is to minimize the total energy via the process of sensitivity analysis. In other words, we will vary the weights of each of the energy terms, while keeping the sum total weights constant, so that we return the lowest value of total energy.\n",
    "\n",
    "Here we use the __one-at-a-time__ technique known in the field of sensitivty analysis, to vary the weights individually, one at a time."
   ]
  },
  {
   "cell_type": "code",
   "execution_count": 14,
   "metadata": {
    "collapsed": false
   },
   "outputs": [
    {
     "name": "stdout",
     "output_type": "stream",
     "text": [
      "8.0\n",
      "-268.3052300000003\n"
     ]
    }
   ],
   "source": [
    "# keep weights constant, but vary them slightly one at a time\n",
    "\n",
    "# varying the weight for bonding energy:\n",
    "\n",
    "delta = 0.1\n",
    "\n",
    "wb = wb - delta \n",
    "wa = wa + delta\n",
    "\n",
    "print(Sum_Weights())\n",
    "print(Total_Energy())"
   ]
  },
  {
   "cell_type": "code",
   "execution_count": null,
   "metadata": {
    "collapsed": true
   },
   "outputs": [],
   "source": []
  }
 ],
 "metadata": {
  "kernelspec": {
   "display_name": "Python 3",
   "language": "python",
   "name": "python3"
  },
  "language_info": {
   "codemirror_mode": {
    "name": "ipython",
    "version": 3
   },
   "file_extension": ".py",
   "mimetype": "text/x-python",
   "name": "python",
   "nbconvert_exporter": "python",
   "pygments_lexer": "ipython3",
   "version": "3.6.0"
  }
 },
 "nbformat": 4,
 "nbformat_minor": 2
}
