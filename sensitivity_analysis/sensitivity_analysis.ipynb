{
 "cells": [
  {
   "cell_type": "markdown",
   "metadata": {},
   "source": [
    "# Energy Minimization - Sensitivity Analysis\n",
    "\n",
    "The objective here is to minimize the total energy via the process of sensitivity analysis. In other words, we will vary the weights of each of the energy terms, while keeping the sum total weights constant, so that we return the lowest value of total energy.\n",
    "\n",
    "Here we apply the metaheuristic, a __genetic algorithm__, to solve the energy minimization problem by redistributing the weights such that the total energy equation is minimized."
   ]
  },
  {
   "cell_type": "markdown",
   "metadata": {},
   "source": [
    "## Incomplete, but working Genetic Algorithm\n",
    "\n",
    "This code can be made much more efficient by using the subroutines involved in a genetic algorithm:\n",
    "* mutation\n",
    "* crossover\n",
    "* tournament selection\n",
    "\n",
    "However, this piece of code __does work__ as a kind of heuristic to this problem. If you change the value of *end* to a higher value, you will eventually reach the solution with enough accuracy."
   ]
  },
  {
   "cell_type": "code",
   "execution_count": 3,
   "metadata": {
    "collapsed": false
   },
   "outputs": [
    {
     "data": {
      "image/png": "[encoded data removed]",
      "text/plain": [
       "<matplotlib.figure.Figure at 0x7f48ef300048>"
      ]
     },
     "metadata": {},
     "output_type": "display_data"
    },
    {
     "name": "stdout",
     "output_type": "stream",
     "text": [
      "\n",
      "Here are the weights for the following energy terms...\n",
      "\n",
      " bond = 0.0033362004287633374\n",
      " angle = 7.900466330871688e-05\n",
      " dihed = 2.3238243656569557e-05\n",
      " nb = 2.695815693595183e-05\n",
      " eel = 0.012968940539323657\n",
      " vdw = 0.022437297520166394\n",
      " el = 7.938260752613696\n",
      " egb = 0.02286760783414903\n",
      "\n",
      "This results in the following energy [-9222.09603868]\n"
     ]
    }
   ],
   "source": [
    "import matplotlib.pyplot as plt\n",
    "import numpy as np\n",
    "import random as random\n",
    "\n",
    "# initialize all the weights to 1\n",
    "wb = 1\n",
    "wa = 1\n",
    "wd = 1\n",
    "wn = 1\n",
    "wee = 1\n",
    "wv = 1\n",
    "wel = 1\n",
    "weg = 1\n",
    "\n",
    "weights = [wb,wa,wd,wn,wee,wv,wel,weg]\n",
    "\n",
    "# returns a vector describing all of the weights\n",
    "def weights():\n",
    "    return [wb,wa,wd,wn,wee,wv,wel,weg]\n",
    "\n",
    "\"\"\"initialize energy terms\"\"\"\n",
    "\n",
    "bond = 49.7829\n",
    "angle = 138.4463\n",
    "dihed = 217.8041\n",
    "nb = 39.1752\n",
    "eel = 695.8385\n",
    "vdw = -83.5197\n",
    "el = -1162.1836\n",
    "egb = -162.3717\n",
    "\n",
    "energy_terms = np.array([[bond], [angle], [dihed], [nb], [eel], [vdw], [el], [egb]])\n",
    "\n",
    "# original weights of 1\n",
    "original_energy = np.dot(np.ones(len(energy_terms)), energy_terms)\n",
    "last_energy = original_energy\n",
    "end = 1000\n",
    "\n",
    "list_total_energy = []\n",
    "\n",
    "for a in range(end):\n",
    "\n",
    "    population = []\n",
    "\n",
    "    # random initialization of an attempt at the solution, an \"individual\"\n",
    "    individual = []\n",
    "\n",
    "    # total amount of weight left to be redistributed \n",
    "    total_weight_left = float(len(weights()))\n",
    "    # print(total_weight_left)\n",
    "\n",
    "    # distribute random weights to an individual, while keeping total weight constant\n",
    "    for weight in (range(len(weights())-1)):    \n",
    "        distribute = random.uniform(0,1) * total_weight_left\n",
    "        total_weight_left -= distribute\n",
    "        new_weight = distribute\n",
    "        individual.append(new_weight)\n",
    "\n",
    "    # add what's left to be distributed, as the final weight \n",
    "    individual.append(total_weight_left)\n",
    "\n",
    "    # total weight is unchanged \n",
    "    # weights have been randomly distributed\n",
    "\n",
    "    # randomly shuffle the weights in the list\n",
    "    random.shuffle(individual)\n",
    "\n",
    "    \"\"\"matrix multiplication to computer total_energy\"\"\"\n",
    "\n",
    "    np.array(individual)\n",
    "\n",
    "    # calculate dot product of the arrays\n",
    "    total_energy = np.dot(individual, energy_terms)\n",
    "\n",
    "    if total_energy < last_energy:\n",
    "        last_energy = total_energy\n",
    "        best_weights = individual\n",
    "        \n",
    "    list_total_energy.append(last_energy)\n",
    "        \n",
    "# plots the performance of the G.A.\n",
    "plt.plot(range(end), list_total_energy)\n",
    "plt.suptitle('Performance of Genetic Algorithm')\n",
    "plt.xlabel('Iteration')\n",
    "plt.ylabel('Energy')\n",
    "plt.show()\n",
    "\n",
    "def print_weights_of(weights):\n",
    "    print()\n",
    "    print(\"Here are the weights for the following energy terms...\")\n",
    "    print()\n",
    "    print(\" bond =\", weights[0])\n",
    "    print(\" angle =\", weights[1])\n",
    "    print(\" dihed =\", weights[2])\n",
    "    print(\" nb =\", weights[3])\n",
    "    print(\" eel =\", weights[4])\n",
    "    print(\" vdw =\", weights[5])\n",
    "    print(\" el =\", weights[6])\n",
    "    print(\" egb =\", weights[7])\n",
    "    print()\n",
    "\n",
    "print_weights_of(best_weights)\n",
    "print('This results in the following energy', last_energy)"
   ]
  },
  {
   "cell_type": "markdown",
   "metadata": {},
   "source": [
    "## Discussion\n",
    "\n",
    "As expected, the most negative energy term takes all the weight.\n",
    "\n"
   ]
  }
 ],
 "metadata": {
  "kernelspec": {
   "display_name": "Python 3",
   "language": "python",
   "name": "python3"
  },
  "language_info": {
   "codemirror_mode": {
    "name": "ipython",
    "version": 3
   },
   "file_extension": ".py",
   "mimetype": "text/x-python",
   "name": "python",
   "nbconvert_exporter": "python",
   "pygments_lexer": "ipython3",
   "version": "3.6.0"
  }
 },
 "nbformat": 4,
 "nbformat_minor": 2
}
